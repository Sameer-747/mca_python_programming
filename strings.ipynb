{
 "cells": [
  {
   "cell_type": "code",
   "execution_count": 9,
   "id": "4919a79d",
   "metadata": {},
   "outputs": [
    {
     "name": "stdout",
     "output_type": "stream",
     "text": [
      "Maintain silence in library\n",
      "MAINTAIN SILENCE IN LIBRARY\n"
     ]
    }
   ],
   "source": [
    "s=\"Maintain silence in library\" \n",
    "supper=s.upper()\n",
    "print(s)\n",
    "print(supper)"
   ]
  },
  {
   "cell_type": "code",
   "execution_count": null,
   "id": "eb2d1205",
   "metadata": {},
   "outputs": [
    {
     "name": "stdout",
     "output_type": "stream",
     "text": [
      "maintain silence in library\n"
     ]
    }
   ],
   "source": [
    "s=\"Maintain silence in library\" \n",
    "supper=s.lower()\n",
    "print(s)\n",
    "print(supper)"
   ]
  },
  {
   "cell_type": "code",
   "execution_count": null,
   "id": "eaa1261d",
   "metadata": {},
   "outputs": [
    {
     "name": "stdout",
     "output_type": "stream",
     "text": [
      "Maintain silence in library\n"
     ]
    }
   ],
   "source": [
    "s=\"Maintain silence in library\" \n",
    "supper=s.capitalize()\n",
    "print(s)\n",
    "print(supper)"
   ]
  },
  {
   "cell_type": "code",
   "execution_count": null,
   "id": "335b062a",
   "metadata": {},
   "outputs": [
    {
     "name": "stdout",
     "output_type": "stream",
     "text": [
      "Maintain Silence In Library\n"
     ]
    }
   ],
   "source": [
    "s=\"Maintain silence in library\" \n",
    "supper=s.title()\n",
    "print(s)\n",
    "print(supper)"
   ]
  },
  {
   "cell_type": "code",
   "execution_count": null,
   "id": "249601a6",
   "metadata": {},
   "outputs": [
    {
     "name": "stdout",
     "output_type": "stream",
     "text": [
      "mAINTAIN SILENCE IN LIBRARY\n"
     ]
    }
   ],
   "source": [
    "s=\"Maintain silence in library\" \n",
    "supper=s.swapcase()\n",
    "print(s)\n",
    "print(supper)"
   ]
  },
  {
   "cell_type": "code",
   "execution_count": 8,
   "id": "717c505f",
   "metadata": {},
   "outputs": [
    {
     "name": "stdout",
     "output_type": "stream",
     "text": [
      "Maintain silence in library\n",
      "maintain silence in library\n"
     ]
    }
   ],
   "source": [
    "s=\"Maintain silence in library\" \n",
    "supper=s.casefold()\n",
    "print(s)\n",
    "print(supper)"
   ]
  },
  {
   "cell_type": "code",
   "execution_count": 13,
   "id": "cef9826f",
   "metadata": {},
   "outputs": [
    {
     "name": "stdout",
     "output_type": "stream",
     "text": [
      "5\n"
     ]
    }
   ],
   "source": [
    "a='seven'\n",
    "size=len(a)\n",
    "print(size)"
   ]
  },
  {
   "cell_type": "code",
   "execution_count": 24,
   "id": "1f7a0324",
   "metadata": {},
   "outputs": [
    {
     "name": "stdout",
     "output_type": "stream",
     "text": [
      "seven\n",
      "seven     \n",
      "seven-----\n",
      "               seven\n",
      "|||||||||||||||seven\n",
      "    seven    \n",
      "****seven****\n"
     ]
    }
   ],
   "source": [
    "a='seven'\n",
    "a1=a.ljust(10)\n",
    "print(a)\n",
    "print(a1)\n",
    "a2=a.ljust(10,'-')\n",
    "print(a2)\n",
    "a3=a.rjust(20)\n",
    "a4=a.rjust(20,'|')\n",
    "a5=a.center(13)\n",
    "a6=a.center(13,'*')\n",
    "print(a3,a4,a5,a6,sep='\\n')"
   ]
  },
  {
   "cell_type": "markdown",
   "id": "69bda29f",
   "metadata": {},
   "source": [
    "VALIDATION"
   ]
  },
  {
   "cell_type": "code",
   "execution_count": 34,
   "id": "cacafa48",
   "metadata": {},
   "outputs": [
    {
     "name": "stdout",
     "output_type": "stream",
     "text": [
      "False\n",
      "True\n",
      "True\n",
      "False\n"
     ]
    }
   ],
   "source": [
    "x=input()\n",
    "print(x.isalpha())\n",
    "print(x.isalnum())\n",
    "print(x.isdigit())\n",
    "print(x.isspace())"
   ]
  },
  {
   "cell_type": "code",
   "execution_count": 35,
   "id": "9937afca",
   "metadata": {},
   "outputs": [
    {
     "name": "stdout",
     "output_type": "stream",
     "text": [
      "Sameer\n",
      "False\n",
      "False\n",
      "False\n"
     ]
    }
   ],
   "source": [
    "a=input()\n",
    "a1=(a.startswith('a'))\n",
    "a2=(a.startswith('hello'))\n",
    "a3=(a.startswith('b'))\n",
    "print(a,a1,a2,a3,sep='\\n')"
   ]
  },
  {
   "cell_type": "markdown",
   "id": "521a9119",
   "metadata": {},
   "source": [
    "### Dictionary\n",
    "\n",
    " 2 Ways to store data in python\n",
    "\n",
    " 1.list -> indexed based\n",
    " 2.dictionary -> key value pair"
   ]
  },
  {
   "cell_type": "code",
   "execution_count": null,
   "id": "c9472e39",
   "metadata": {},
   "outputs": [
    {
     "name": "stdout",
     "output_type": "stream",
     "text": [
      "()\n",
      "<class 'tuple'>\n",
      "{}\n",
      "<class 'dict'>\n"
     ]
    }
   ],
   "source": [
    "# creating a distionary\n",
    "d = () #empty dist\n",
    "print(d)\n",
    "print(type(d))\n",
    "\n",
    "d2 = dict() #empty dict\n",
    "print(d2)\n",
    "print(type(d2))"
   ]
  },
  {
   "cell_type": "code",
   "execution_count": null,
   "id": "18b1a132",
   "metadata": {},
   "outputs": [
    {
     "name": "stdout",
     "output_type": "stream",
     "text": [
      "{'color': 'orange', 'shape': 'circle', 'size': '2 meter', 'meterial': 'plastic'}\n"
     ]
    }
   ],
   "source": [
    "d3 = {\n",
    "    'color' : 'orange',\n",
    "    'shape' : 'circle',\n",
    "    'size' : '2 meter',\n",
    "    'meterial' : 'plastic',\n",
    "}\n",
    "print(d3)"
   ]
  },
  {
   "cell_type": "code",
   "execution_count": 3,
   "id": "b91a78e7",
   "metadata": {},
   "outputs": [
    {
     "name": "stdout",
     "output_type": "stream",
     "text": [
      "{'fact1': 'all keys in a distonaty should be unique', 'fact2': 'key are immutable so only string and tuples are allowed as key', 'fact3': 'value of a key can be any type -> str, number, list, dict'}\n"
     ]
    }
   ],
   "source": [
    "info = {\n",
    "    'fact1' : 'all keys in a distonaty should be unique',\n",
    "    'fact2' : 'key are immutable so only string and tuples are allowed as key',\n",
    "    'fact3' : 'value of a key can be any type -> str, number, list, dict'\n",
    "}\n",
    "print(info)"
   ]
  },
  {
   "cell_type": "code",
   "execution_count": 4,
   "id": "d0aadfac",
   "metadata": {},
   "outputs": [
    {
     "name": "stdout",
     "output_type": "stream",
     "text": [
      "{'name': 'mobile', 'price': 79999, 'features': {'camara': '48 mp', 'os': 18, 'ram': '8 gb'}, 'brand': 'apple', 'model': 'iphnoe 18', 'popular': True, 'value for money': False, 'color': ['ornage', 'black', 'blue', 'white']}\n"
     ]
    }
   ],
   "source": [
    "product = {\n",
    "    'name' : 'mobile',\n",
    "    'price' : 79999,\n",
    "    'features' : {'camara': '48 mp' , 'os' : 18, 'ram' : '8 gb' },\n",
    "    'brand' : 'apple',\n",
    "    'model' : 'iphnoe 18',\n",
    "    'popular'  : True,\n",
    "    'value for money' : False,\n",
    "    'color' : ['ornage', 'black', 'blue', 'white']\n",
    "}\n",
    "print(product)"
   ]
  },
  {
   "cell_type": "markdown",
   "id": "163a720e",
   "metadata": {},
   "source": [
    "Getting data from Dictionary"
   ]
  },
  {
   "cell_type": "code",
   "execution_count": 5,
   "id": "69f2c283",
   "metadata": {},
   "outputs": [
    {
     "data": {
      "text/plain": [
       "dict_values(['mobile', 79999, {'camara': '48 mp', 'os': 18, 'ram': '8 gb'}, 'apple', 'iphnoe 18', True, False, ['ornage', 'black', 'blue', 'white']])"
      ]
     },
     "execution_count": 5,
     "metadata": {},
     "output_type": "execute_result"
    }
   ],
   "source": [
    "product.values()"
   ]
  },
  {
   "cell_type": "code",
   "execution_count": 6,
   "id": "91e9c34e",
   "metadata": {},
   "outputs": [
    {
     "data": {
      "text/plain": [
       "dict_items([('name', 'mobile'), ('price', 79999), ('features', {'camara': '48 mp', 'os': 18, 'ram': '8 gb'}), ('brand', 'apple'), ('model', 'iphnoe 18'), ('popular', True), ('value for money', False), ('color', ['ornage', 'black', 'blue', 'white'])])"
      ]
     },
     "execution_count": 6,
     "metadata": {},
     "output_type": "execute_result"
    }
   ],
   "source": [
    "product.items()"
   ]
  },
  {
   "cell_type": "code",
   "execution_count": 7,
   "id": "a724ab96",
   "metadata": {},
   "outputs": [
    {
     "data": {
      "text/plain": [
       "dict_keys(['name', 'price', 'features', 'brand', 'model', 'popular', 'value for money', 'color'])"
      ]
     },
     "execution_count": 7,
     "metadata": {},
     "output_type": "execute_result"
    }
   ],
   "source": [
    "product.keys()"
   ]
  },
  {
   "cell_type": "code",
   "execution_count": 8,
   "id": "acb1d9ee",
   "metadata": {},
   "outputs": [
    {
     "name": "stdout",
     "output_type": "stream",
     "text": [
      "iphnoe 18\n",
      "{'camara': '48 mp', 'os': 18, 'ram': '8 gb'}\n",
      "79999\n",
      "None\n",
      "None\n"
     ]
    }
   ],
   "source": [
    "print(product.get('model'))\n",
    "print(product.get('features'))\n",
    "print(product.get('price'))\n",
    "print(product.get('discount'))\n",
    "print(product.get('feature'))"
   ]
  },
  {
   "cell_type": "code",
   "execution_count": 9,
   "id": "55390b8f",
   "metadata": {},
   "outputs": [
    {
     "name": "stdout",
     "output_type": "stream",
     "text": [
      "{'name': 'willian shakespeare'}\n",
      "{'name': 'willian shakespeare', 'books': {'Merchat of venice', 'Julias Ceaser'}}\n",
      "{'name': 'willian shakespeare', 'books': {'Merchat of venice', 'Julias Ceaser'}, 'born': 'april 1564', 'died': 'april 1616', 'overview': 'a  enlish plaweright, poet and actor,regarded as the greatest writer in english'}\n"
     ]
    }
   ],
   "source": [
    "#adding data to dictionary\n",
    "d = {}\n",
    "d['name'] = \"willian shakespeare\"\n",
    "print(d)\n",
    "d['books'] = {'Julias Ceaser', 'Merchat of venice'}\n",
    "print(d)\n",
    "d['born'] = \"april 1564\"\n",
    "d['died'] = \"april 1616\"\n",
    "d['overview'] = '''a  enlish plaweright, poet and actor,regarded as the greatest writer in english'''\n",
    "print(d)\n",
    " "
   ]
  },
  {
   "cell_type": "markdown",
   "id": "3648c106",
   "metadata": {},
   "source": [
    "A simple contact book using temp storage (dictionary)"
   ]
  },
  {
   "cell_type": "code",
   "execution_count": 8,
   "id": "988b27e8",
   "metadata": {},
   "outputs": [
    {
     "name": "stdout",
     "output_type": "stream",
     "text": [
      "Contact Book\n",
      "Search contact\n",
      "💀 Contact not found\n",
      "✅ Success ! contact added\n",
      "👋 Bye\n"
     ]
    }
   ],
   "source": [
    "contacts = {\n",
    "    'emergency':108\n",
    "}\n",
    "print(\"Contact Book\")\n",
    "while True:\n",
    "    print(\"Search contact\")\n",
    "    name = input(\"Name 👉\")\n",
    "    if name in contacts:\n",
    "        print(\"🔎 Contact Found\")\n",
    "        print(name,'👍' , contacts.get(name))\n",
    "    else:\n",
    "        print(\"💀 Contact not found\")\n",
    "        ch = input(\"Do you want to add it ? Y/N:\")\n",
    "        if ch == 'Y' or ch == 'y':\n",
    "            num = input(\"Enter {name}'s number :\")\n",
    "            contacts[name] = num\n",
    "            print(\"✅ Success ! contact added\")\n",
    "        else:\n",
    "            print(\"Okay 😉\")\n",
    "    quit = input(\"Do you want to continue ? Y/N\")\n",
    "    if quit != 'Y' or 'y':\n",
    "        print(\"👋 Bye\")\n",
    "        break"
   ]
  },
  {
   "cell_type": "markdown",
   "id": "f4697b57",
   "metadata": {},
   "source": [
    "String Utility Method"
   ]
  },
  {
   "cell_type": "markdown",
   "id": "cd7e8c90",
   "metadata": {},
   "source": [
    "Replace"
   ]
  },
  {
   "cell_type": "code",
   "execution_count": 3,
   "id": "cd181ca3",
   "metadata": {},
   "outputs": [
    {
     "name": "stdout",
     "output_type": "stream",
     "text": [
      "Once upon a time twice upon a time\n",
      "Onci upon a timi\n"
     ]
    }
   ],
   "source": [
    "s = \"Once upon a time\"\n",
    "s2 = s.replace('Once','twice')\n",
    "print(s,s2)\n",
    "s3 = s.replace('e','i')\n",
    "print(s3)"
   ]
  },
  {
   "cell_type": "code",
   "execution_count": 6,
   "id": "5f81f4f1",
   "metadata": {},
   "outputs": [
    {
     "name": "stdout",
     "output_type": "stream",
     "text": [
      "py#t#h#o#n\n",
      "python\n"
     ]
    }
   ],
   "source": [
    "# Replace for removing content\n",
    "\n",
    "data = 'py#t#h#o#n'\n",
    "cleaned_data = data.replace('#','')\n",
    "print(data,cleaned_data,sep='\\n')"
   ]
  },
  {
   "cell_type": "markdown",
   "id": "c44816eb",
   "metadata": {},
   "source": [
    "Find/Index"
   ]
  },
  {
   "cell_type": "code",
   "execution_count": 13,
   "id": "3689be83",
   "metadata": {},
   "outputs": [
    {
     "name": "stdout",
     "output_type": "stream",
     "text": [
      "7\n",
      "-1\n",
      "2\n",
      "3\n",
      "13\n"
     ]
    }
   ],
   "source": [
    "m = \"Alpine mountain range\"\n",
    "print(m.find('mountain'))\n",
    "print(m.find('lion'))       # output : -1\n",
    "print(m.find('pine'))       # output : 2\n",
    "print(m.find('i'))\n",
    "print(m.find('i',4))"
   ]
  },
  {
   "cell_type": "markdown",
   "id": "fc6494de",
   "metadata": {},
   "source": [
    "Split & Join"
   ]
  },
  {
   "cell_type": "code",
   "execution_count": 27,
   "id": "f3370fde",
   "metadata": {},
   "outputs": [
    {
     "name": "stdout",
     "output_type": "stream",
     "text": [
      "Life Before Death\n",
      "Courage Before Despair\n",
      "Journey Before Destination\n",
      "['Life', 'Before', 'Death', 'Courage', 'Before', 'Despair', 'Journey', 'Before', 'Destination']\n",
      "['Life Before Death\\nCourage Before Despair\\nJourney Before Destination']\n"
     ]
    }
   ],
   "source": [
    "quote = '''Life Before Death\n",
    "Courage Before Despair\n",
    "Journey Before Destination'''\n",
    "\n",
    "words = quote.split()\n",
    "print(quote)\n",
    "print(words)\n",
    "sentences = quote.split(',')\n",
    "print(sentences)"
   ]
  },
  {
   "cell_type": "code",
   "execution_count": 30,
   "id": "b54d9b3b",
   "metadata": {},
   "outputs": [
    {
     "name": "stdout",
     "output_type": "stream",
     "text": [
      "['MBU', 'Sree sainath nagar', 'Tirupati', 'AP', '517102']\n",
      "MBU,Sree sainath nagar,Tirupati,AP,517102\n",
      "MBU-Sree sainath nagar-Tirupati-AP-517102\n",
      "MBU\n",
      "Sree sainath nagar\n",
      "Tirupati\n",
      "AP\n",
      "517102\n",
      "MBUWhatSree sainath nagarWhatTirupatiWhatAPWhat517102\n"
     ]
    }
   ],
   "source": [
    "addr = ['MBU','Sree sainath nagar','Tirupati','AP','517102']\n",
    "addr_str = \",\".join(addr)\n",
    "print(addr,addr_str,sep='\\n')\n",
    "addr2 = '-'.join(addr)\n",
    "addr3 = '\\n'.join(addr)\n",
    "addr4 = 'What'.join(addr)\n",
    "print(addr2,addr3,addr4,sep='\\n')"
   ]
  },
  {
   "cell_type": "markdown",
   "id": "e833f623",
   "metadata": {},
   "source": [
    "## Functions \n",
    "##         And \n",
    "##             Modules"
   ]
  },
  {
   "cell_type": "code",
   "execution_count": null,
   "id": "5f212bf0",
   "metadata": {},
   "outputs": [],
   "source": []
  }
 ],
 "metadata": {
  "kernelspec": {
   "display_name": "Python 3",
   "language": "python",
   "name": "python3"
  },
  "language_info": {
   "codemirror_mode": {
    "name": "ipython",
    "version": 3
   },
   "file_extension": ".py",
   "mimetype": "text/x-python",
   "name": "python",
   "nbconvert_exporter": "python",
   "pygments_lexer": "ipython3",
   "version": "3.12.5"
  }
 },
 "nbformat": 4,
 "nbformat_minor": 5
}
