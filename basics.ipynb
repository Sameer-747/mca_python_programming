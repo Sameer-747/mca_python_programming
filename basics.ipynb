{
 "cells": [
  {
   "cell_type": "code",
   "execution_count": null,
   "id": "da6b494a",
   "metadata": {},
   "outputs": [],
   "source": [
    "name = \"Shaik Sameer\"\n",
    "city = \"Nellore\"\n",
    "age = 20\n",
    "pi = 3.145\n",
    "is_good = True"
   ]
  },
  {
   "cell_type": "code",
   "execution_count": 3,
   "id": "396b5a37",
   "metadata": {},
   "outputs": [
    {
     "data": {
      "text/plain": [
       "50.24"
      ]
     },
     "execution_count": 3,
     "metadata": {},
     "output_type": "execute_result"
    }
   ],
   "source": [
    "r = 8 # cm\n",
    "pi = 3.14\n",
    "circumference = 2 * pi * r\n",
    "circumference"
   ]
  },
  {
   "cell_type": "code",
   "execution_count": 4,
   "id": "765a4dce",
   "metadata": {},
   "outputs": [
    {
     "data": {
      "text/plain": [
       "50.24"
      ]
     },
     "execution_count": 4,
     "metadata": {},
     "output_type": "execute_result"
    }
   ],
   "source": [
    "circumference"
   ]
  },
  {
   "cell_type": "code",
   "execution_count": 6,
   "id": "f7e5950d",
   "metadata": {},
   "outputs": [],
   "source": [
    "a = 10\n",
    "b = 20"
   ]
  },
  {
   "cell_type": "markdown",
   "id": "f6d45116",
   "metadata": {},
   "source": [
    "Assignment operators = += -= /= *= **= //="
   ]
  },
  {
   "cell_type": "code",
   "execution_count": 8,
   "id": "f0aeab11",
   "metadata": {},
   "outputs": [],
   "source": [
    "a = 10 \n",
    "b = a + 5\n",
    "c = b - 10\n",
    "\n",
    "a += 5"
   ]
  },
  {
   "cell_type": "code",
   "execution_count": 9,
   "id": "30dd30f8",
   "metadata": {},
   "outputs": [
    {
     "data": {
      "text/plain": [
       "5"
      ]
     },
     "execution_count": 9,
     "metadata": {},
     "output_type": "execute_result"
    }
   ],
   "source": [
    "b - 10"
   ]
  },
  {
   "cell_type": "code",
   "execution_count": 13,
   "id": "304ea603",
   "metadata": {},
   "outputs": [],
   "source": [
    "z =5"
   ]
  },
  {
   "cell_type": "code",
   "execution_count": null,
   "id": "f3ce3440",
   "metadata": {},
   "outputs": [
    {
     "data": {
      "text/plain": [
       "0.0390625"
      ]
     },
     "execution_count": 20,
     "metadata": {},
     "output_type": "execute_result"
    }
   ],
   "source": [
    "x = 1000 #assignment\n",
    "x -= 500 #assignment\n",
    "x *= 10\n",
    "z /=2\n",
    "z"
   ]
  },
  {
   "cell_type": "markdown",
   "id": "b16f31d3",
   "metadata": {},
   "source": [
    "# arithematic operator\n",
    "- add \"+\"\n",
    "- sub \"-\"\n",
    "- mul \"*\"\n",
    "- div \"/\"\n",
    "- int div \"//\"\n",
    "- exp \"**\"\n",
    "- mod \"%\""
   ]
  },
  {
   "cell_type": "code",
   "execution_count": 1,
   "id": "95b015f9",
   "metadata": {},
   "outputs": [
    {
     "data": {
      "text/plain": [
       "13"
      ]
     },
     "execution_count": 1,
     "metadata": {},
     "output_type": "execute_result"
    }
   ],
   "source": [
    "a = 10\n",
    "b = 3\n",
    "a + b"
   ]
  },
  {
   "cell_type": "code",
   "execution_count": 2,
   "id": "7de55d01",
   "metadata": {},
   "outputs": [
    {
     "data": {
      "text/plain": [
       "7"
      ]
     },
     "execution_count": 2,
     "metadata": {},
     "output_type": "execute_result"
    }
   ],
   "source": [
    "a - b"
   ]
  },
  {
   "cell_type": "code",
   "execution_count": 3,
   "id": "39c2368d",
   "metadata": {},
   "outputs": [
    {
     "data": {
      "text/plain": [
       "30"
      ]
     },
     "execution_count": 3,
     "metadata": {},
     "output_type": "execute_result"
    }
   ],
   "source": [
    "a * b"
   ]
  },
  {
   "cell_type": "code",
   "execution_count": 4,
   "id": "51c57259",
   "metadata": {},
   "outputs": [
    {
     "data": {
      "text/plain": [
       "3.3333333333333335"
      ]
     },
     "execution_count": 4,
     "metadata": {},
     "output_type": "execute_result"
    }
   ],
   "source": [
    "a / b"
   ]
  },
  {
   "cell_type": "code",
   "execution_count": 5,
   "id": "e20a5caa",
   "metadata": {},
   "outputs": [
    {
     "data": {
      "text/plain": [
       "3"
      ]
     },
     "execution_count": 5,
     "metadata": {},
     "output_type": "execute_result"
    }
   ],
   "source": [
    "a // b"
   ]
  },
  {
   "cell_type": "code",
   "execution_count": 6,
   "id": "9b8e15d1",
   "metadata": {},
   "outputs": [
    {
     "data": {
      "text/plain": [
       "1"
      ]
     },
     "execution_count": 6,
     "metadata": {},
     "output_type": "execute_result"
    }
   ],
   "source": [
    "a % b"
   ]
  },
  {
   "cell_type": "code",
   "execution_count": null,
   "id": "79edd351",
   "metadata": {},
   "outputs": [
    {
     "data": {
      "text/plain": [
       "1000"
      ]
     },
     "execution_count": 7,
     "metadata": {},
     "output_type": "execute_result"
    }
   ],
   "source": [
    "a ** 3 # 10 power of 3 / Exponentation"
   ]
  },
  {
   "cell_type": "markdown",
   "id": "de490b0b",
   "metadata": {},
   "source": [
    "# operators precedence\n",
    "\n",
    "1 => () \n",
    "2 => ** , * , / , // \n",
    "3 => + , -\n",
    "4 => ="
   ]
  },
  {
   "cell_type": "code",
   "execution_count": 8,
   "id": "49cf6035",
   "metadata": {},
   "outputs": [
    {
     "data": {
      "text/plain": [
       "27.0"
      ]
     },
     "execution_count": 8,
     "metadata": {},
     "output_type": "execute_result"
    }
   ],
   "source": [
    "2 + 10 / 2 * 5 \n",
    "# 2 + 5.0 * 5 step 1\n",
    "# 2 + 25.0 step 2 \n",
    "# 27.0\n"
   ]
  },
  {
   "cell_type": "code",
   "execution_count": 11,
   "id": "43c9ee0c",
   "metadata": {},
   "outputs": [
    {
     "data": {
      "text/plain": [
       "169"
      ]
     },
     "execution_count": 11,
     "metadata": {},
     "output_type": "execute_result"
    }
   ],
   "source": [
    "x = (a + b) ** 2\n",
    "x"
   ]
  },
  {
   "cell_type": "code",
   "execution_count": null,
   "id": "b1b8997d",
   "metadata": {},
   "outputs": [
    {
     "data": {
      "text/plain": [
       "5.0"
      ]
     },
     "execution_count": 13,
     "metadata": {},
     "output_type": "execute_result"
    }
   ],
   "source": [
    "per = 3\n",
    "base = 4\n",
    "(per**2 + base**2)**.5 # math.sqrt(per**2 + base**2) will also work"
   ]
  },
  {
   "cell_type": "code",
   "execution_count": 17,
   "id": "1376471a",
   "metadata": {},
   "outputs": [
    {
     "data": {
      "text/plain": [
       "48"
      ]
     },
     "execution_count": 17,
     "metadata": {},
     "output_type": "execute_result"
    }
   ],
   "source": [
    "x = 10 \n",
    "res = 3*x + 2*(x-1)\n",
    "res"
   ]
  },
  {
   "cell_type": "code",
   "execution_count": 22,
   "id": "7cc64e0a",
   "metadata": {},
   "outputs": [
    {
     "data": {
      "text/plain": [
       "3.875"
      ]
     },
     "execution_count": 22,
     "metadata": {},
     "output_type": "execute_result"
    }
   ],
   "source": [
    "sum = 2+4+5+6+1+2+5+6\n",
    "count = 8 \n",
    "res = 31/8\n",
    "res\n"
   ]
  },
  {
   "cell_type": "markdown",
   "id": "35669b60",
   "metadata": {},
   "source": [
    "# comparison operators\n",
    "` < <= > >= == !=`"
   ]
  },
  {
   "cell_type": "code",
   "execution_count": 1,
   "id": "c8eddcd2",
   "metadata": {},
   "outputs": [],
   "source": [
    "x = 12\n",
    "y = 23"
   ]
  },
  {
   "cell_type": "code",
   "execution_count": 4,
   "id": "55d61e78",
   "metadata": {},
   "outputs": [],
   "source": [
    "x , y = 13 , 24\n",
    "a , b , c = 2 , 4 , 120"
   ]
  },
  {
   "cell_type": "code",
   "execution_count": null,
   "id": "aa57ed2d",
   "metadata": {},
   "outputs": [
    {
     "data": {
      "text/plain": [
       "False"
      ]
     },
     "execution_count": 5,
     "metadata": {},
     "output_type": "execute_result"
    }
   ],
   "source": [
    "x > y # if x is greater than y -> False   -> \"F\" Must  be capital"
   ]
  },
  {
   "cell_type": "code",
   "execution_count": 6,
   "id": "79528afa",
   "metadata": {},
   "outputs": [
    {
     "data": {
      "text/plain": [
       "True"
      ]
     },
     "execution_count": 6,
     "metadata": {},
     "output_type": "execute_result"
    }
   ],
   "source": [
    "x == 13"
   ]
  },
  {
   "cell_type": "code",
   "execution_count": 7,
   "id": "0f63cfff",
   "metadata": {},
   "outputs": [
    {
     "data": {
      "text/plain": [
       "True"
      ]
     },
     "execution_count": 7,
     "metadata": {},
     "output_type": "execute_result"
    }
   ],
   "source": [
    "y >= 23"
   ]
  },
  {
   "cell_type": "code",
   "execution_count": 8,
   "id": "a21c6ebf",
   "metadata": {},
   "outputs": [
    {
     "data": {
      "text/plain": [
       "True"
      ]
     },
     "execution_count": 8,
     "metadata": {},
     "output_type": "execute_result"
    }
   ],
   "source": [
    "x != y # if x is not equal to y -> True \n"
   ]
  },
  {
   "cell_type": "code",
   "execution_count": 11,
   "id": "1f2fb0f2",
   "metadata": {},
   "outputs": [
    {
     "data": {
      "text/plain": [
       "True"
      ]
     },
     "execution_count": 11,
     "metadata": {},
     "output_type": "execute_result"
    }
   ],
   "source": [
    "x < 15 < y"
   ]
  },
  {
   "cell_type": "code",
   "execution_count": 13,
   "id": "c68a254b",
   "metadata": {},
   "outputs": [
    {
     "data": {
      "text/plain": [
       "False"
      ]
     },
     "execution_count": 13,
     "metadata": {},
     "output_type": "execute_result"
    }
   ],
   "source": [
    "x = 100\n",
    "1 < x < 100    # if x is in range of 2 - 99"
   ]
  },
  {
   "cell_type": "code",
   "execution_count": 14,
   "id": "9d3e8825",
   "metadata": {},
   "outputs": [
    {
     "data": {
      "text/plain": [
       "True"
      ]
     },
     "execution_count": 14,
     "metadata": {},
     "output_type": "execute_result"
    }
   ],
   "source": [
    "x = 100\n",
    "1 <= x <= 100"
   ]
  },
  {
   "cell_type": "markdown",
   "id": "ba464a1e",
   "metadata": {},
   "source": [
    "# logical Operators\n",
    "\n",
    "AND or NOT"
   ]
  },
  {
   "cell_type": "code",
   "execution_count": null,
   "id": "4702b184",
   "metadata": {},
   "outputs": [
    {
     "data": {
      "text/plain": [
       "True"
      ]
     },
     "execution_count": 16,
     "metadata": {},
     "output_type": "execute_result"
    }
   ],
   "source": [
    "x > y and x > a  # and is used to evaluate if both expressions are true"
   ]
  },
  {
   "cell_type": "code",
   "execution_count": 17,
   "id": "b6e3b0c0",
   "metadata": {},
   "outputs": [],
   "source": [
    "a = 10\n",
    "b = 20"
   ]
  },
  {
   "cell_type": "code",
   "execution_count": null,
   "id": "7ad28dd4",
   "metadata": {},
   "outputs": [
    {
     "data": {
      "text/plain": [
       "False"
      ]
     },
     "execution_count": 18,
     "metadata": {},
     "output_type": "execute_result"
    }
   ],
   "source": [
    "not a  # convert true value to false and vice versa"
   ]
  },
  {
   "cell_type": "code",
   "execution_count": null,
   "id": "4b10005e",
   "metadata": {},
   "outputs": [
    {
     "data": {
      "text/plain": [
       "True"
      ]
     },
     "execution_count": 20,
     "metadata": {},
     "output_type": "execute_result"
    }
   ],
   "source": [
    "not (a == 20) # invert the result"
   ]
  },
  {
   "cell_type": "code",
   "execution_count": null,
   "id": "a57722af",
   "metadata": {},
   "outputs": [],
   "source": []
  }
 ],
 "metadata": {
  "kernelspec": {
   "display_name": "Python 3",
   "language": "python",
   "name": "python3"
  },
  "language_info": {
   "codemirror_mode": {
    "name": "ipython",
    "version": 3
   },
   "file_extension": ".py",
   "mimetype": "text/x-python",
   "name": "python",
   "nbconvert_exporter": "python",
   "pygments_lexer": "ipython3",
   "version": "3.12.5"
  }
 },
 "nbformat": 4,
 "nbformat_minor": 5
}
