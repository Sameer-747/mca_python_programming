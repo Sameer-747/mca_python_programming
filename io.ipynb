{
 "cells": [
  {
   "cell_type": "code",
   "execution_count": 1,
   "id": "bf62a411",
   "metadata": {},
   "outputs": [],
   "source": [
    "name = \"Shaik Sameer\"\n",
    "city = \"Nellore\""
   ]
  },
  {
   "cell_type": "code",
   "execution_count": 2,
   "id": "46521388",
   "metadata": {},
   "outputs": [
    {
     "data": {
      "text/plain": [
       "'Shaik Sameer'"
      ]
     },
     "execution_count": 2,
     "metadata": {},
     "output_type": "execute_result"
    }
   ],
   "source": [
    "name"
   ]
  },
  {
   "cell_type": "markdown",
   "id": "f27ff0bc",
   "metadata": {},
   "source": [
    "### input in python \n",
    "`input () functions is used for taking user input`"
   ]
  },
  {
   "cell_type": "code",
   "execution_count": 3,
   "id": "021049e1",
   "metadata": {},
   "outputs": [],
   "source": [
    "name = input()"
   ]
  },
  {
   "cell_type": "code",
   "execution_count": 7,
   "id": "eec2780f",
   "metadata": {},
   "outputs": [],
   "source": [
    "name = input()"
   ]
  },
  {
   "cell_type": "code",
   "execution_count": 8,
   "id": "91a99f6e",
   "metadata": {},
   "outputs": [
    {
     "data": {
      "text/plain": [
       "'sameer'"
      ]
     },
     "execution_count": 8,
     "metadata": {},
     "output_type": "execute_result"
    }
   ],
   "source": [
    "name"
   ]
  },
  {
   "cell_type": "code",
   "execution_count": 10,
   "id": "bee62923",
   "metadata": {},
   "outputs": [
    {
     "name": "stdout",
     "output_type": "stream",
     "text": [
      "Sameer Nellore 12-152\n"
     ]
    }
   ],
   "source": [
    "name = input(\"Enter your name\")\n",
    "city = input(\"Enter your city\")\n",
    "address = input(\"Enter your address\")\n",
    "print(name,city,address)"
   ]
  },
  {
   "cell_type": "code",
   "execution_count": null,
   "id": "4c34b530",
   "metadata": {},
   "outputs": [
    {
     "name": "stdout",
     "output_type": "stream",
     "text": [
      "10 20 30\n"
     ]
    }
   ],
   "source": [
    "# static\n",
    "\n",
    "a = 10\n",
    "b = 20\n",
    "c = a + b\n",
    "print(a,b,c)\n",
    " "
   ]
  },
  {
   "cell_type": "code",
   "execution_count": null,
   "id": "04a4e03f",
   "metadata": {},
   "outputs": [
    {
     "name": "stdout",
     "output_type": "stream",
     "text": [
      "The sum is : 50\n"
     ]
    }
   ],
   "source": [
    "# Dynamic input -> typecasted\n",
    "\n",
    "a = int(input(\"Enter A value :\"))\n",
    "b = int(input(\"Enter B value :\"))\n",
    "c = a + b \n",
    "print(\"The sum is :\",c)"
   ]
  },
  {
   "cell_type": "code",
   "execution_count": null,
   "id": "ed2a1340",
   "metadata": {},
   "outputs": [
    {
     "name": "stdout",
     "output_type": "stream",
     "text": [
      "5.5\n",
      "11.0\n",
      "34.54\n",
      "94.985\n"
     ]
    }
   ],
   "source": [
    "# Circle formula\n",
    "\n",
    "radius = float(input(\"Enter radius of circle\"))\n",
    "diameter = radius * 2\n",
    "circumference = 2 * 3.14 * radius\n",
    "area = 3.14 * radius **  2\n",
    "\n",
    "print(radius)\n",
    "print(diameter)\n",
    "print(circumference)\n",
    "print(area)"
   ]
  },
  {
   "cell_type": "code",
   "execution_count": 25,
   "id": "71362229",
   "metadata": {},
   "outputs": [
    {
     "name": "stdout",
     "output_type": "stream",
     "text": [
      "300000\n",
      "1.0\n",
      "3\n",
      "9000.0\n"
     ]
    }
   ],
   "source": [
    "# simple interset\n",
    "\n",
    "p = int(input(\"Enter principal amount\"))\n",
    "r = float(input(\"Enter rate of intreset value\"))\n",
    "t = int(input(\"Enter time of years\"))\n",
    "si = p*r*t/100\n",
    "print(p)\n",
    "print(r)\n",
    "print(t)\n",
    "print(si)"
   ]
  },
  {
   "cell_type": "code",
   "execution_count": null,
   "id": "9b095aca",
   "metadata": {},
   "outputs": [
    {
     "name": "stdout",
     "output_type": "stream",
     "text": [
      "2517.7681800000005\n"
     ]
    }
   ],
   "source": [
    "pi = 3.14\n",
    "r = float(input(\"Enter radius value\"))\n",
    "h = float(input(\"Enter a height value\"))\n",
    "v = pi * r ** 2 * h \n",
    "print(v)"
   ]
  },
  {
   "cell_type": "code",
   "execution_count": null,
   "id": "27fc8ba8",
   "metadata": {},
   "outputs": [
    {
     "name": "stdout",
     "output_type": "stream",
     "text": [
      "hii Everyone\n",
      "one two three\n",
      "1 2 3 9\n",
      "23\n",
      "apple~banana~oranges\n",
      "😃❤️✌️👀😄🙈\n"
     ]
    }
   ],
   "source": [
    "# formatting the output : \"The Way of Changing the data is known as formatting\"\n",
    "\n",
    "print(\"hii Everyone\")          # Displaying the message\n",
    "print(\"one\",\"two\",\"three\")     # Displaying multiple data value\n",
    "print(1,2,3,4+5)               # \n",
    "print(10 * 2 + 3)\n",
    "print(\"apple\", \"banana\" , \"oranges\" , sep=\"~\")\n",
    "print(\"😃❤️✌️👀😄🙈\")"
   ]
  },
  {
   "cell_type": "code",
   "execution_count": null,
   "id": "6ce0309c",
   "metadata": {},
   "outputs": [
    {
     "name": "stdout",
     "output_type": "stream",
     "text": [
      "1 2 3 4 5\n",
      "12345\n",
      "1,2,3,4,5,6\n",
      "1➡️2➡️3➡️4➡️5➡️6\n",
      "1\n",
      "2\n",
      "3\n",
      "4\n",
      "5\n",
      "1hello World2hello World3hello World4hello World5\n"
     ]
    }
   ],
   "source": [
    "print(1,2,3,4,5)\n",
    "print(1,2,3,4,5, sep=\"\")\n",
    "print(1,2,3,4,5,6, sep=\",\")\n",
    "print(1,2,3,4,5,6, sep='➡️')\n",
    "print(1,2,3,4,5, sep=\"\\n\")\n",
    "print(1,2,3,4,5, sep=\"hello World\")\n",
    "print(1,\"HEllO\")"
   ]
  },
  {
   "cell_type": "code",
   "execution_count": null,
   "id": "266c52df",
   "metadata": {},
   "outputs": [
    {
     "name": "stdout",
     "output_type": "stream",
     "text": [
      "130\n",
      "Answer 130\n",
      "Answer 130\n",
      "Answer 130\n",
      "110 + 20 => 130\n",
      "Answer 130\n",
      "110 + 20 = 130\n"
     ]
    }
   ],
   "source": [
    "a = 110\n",
    "b = 20\n",
    "c = a + b\n",
    "print(c)\n",
    "print(\"Answer \" + str(c))\n",
    "print(\"Answer\",c)\n",
    "print(\"Answer %d\"%c)            # not the best way\n",
    "print(\"%d + %d => %d\"%(a,b,c))  # also very complicated\n",
    "print(\"Answer {}\".format(c))    # Old Way (before python 3.6)\n",
    "print(\"{} + {} = {}\".format(a,b,c)) # Old Way"
   ]
  },
  {
   "cell_type": "code",
   "execution_count": null,
   "id": "3fde757c",
   "metadata": {},
   "outputs": [
    {
     "name": "stdout",
     "output_type": "stream",
     "text": [
      "Answer 130\n",
      "110 + 20 = 130\n"
     ]
    }
   ],
   "source": [
    "# final actual way to format output using f-strings\n",
    "\n",
    "a = 110\n",
    "b = 20\n",
    "c = a + b\n",
    "print(f\"Answer {c}\")\n",
    "print(f\"{a} + {b} = {c}\")   # f-string/formattable"
   ]
  },
  {
   "cell_type": "code",
   "execution_count": 25,
   "id": "e4c5578e",
   "metadata": {},
   "outputs": [
    {
     "name": "stdout",
     "output_type": "stream",
     "text": [
      "we get 130 , when we add 110 and 20\n"
     ]
    }
   ],
   "source": [
    "print(f'we get {c} , when we add {a} and {b}')"
   ]
  },
  {
   "cell_type": "code",
   "execution_count": 26,
   "id": "da7db3fd",
   "metadata": {},
   "outputs": [
    {
     "name": "stdout",
     "output_type": "stream",
     "text": [
      "My Name is Sameer, i work as a job Developer in unknown\n"
     ]
    }
   ],
   "source": [
    "name = \"Sameer\"\n",
    "job = \"Developer\"\n",
    "company = \"unknown\"\n",
    "print(f\"My Name is {name}, i work as a job {job} in {company}\")"
   ]
  },
  {
   "cell_type": "code",
   "execution_count": 27,
   "id": "b96e1641",
   "metadata": {},
   "outputs": [
    {
     "name": "stdout",
     "output_type": "stream",
     "text": [
      "Claculation of hypotenuse\n",
      "Peripenducalar => 20\n",
      "Base => 10\n",
      "Based on pythagoras theorem : \n",
      "Hypotenuse => 22.360679774997898\n"
     ]
    }
   ],
   "source": [
    "p = 20 \n",
    "b = 10\n",
    "h = (p**2 + b**2)**.5\n",
    "print(\"Claculation of hypotenuse\")\n",
    "print(f\"Peripenducalar => {p}\")\n",
    "print(f\"Base => {b}\")\n",
    "print(\"Based on pythagoras theorem : \")\n",
    "print(f\"Hypotenuse => {h}\")"
   ]
  },
  {
   "cell_type": "code",
   "execution_count": null,
   "id": "83f22253",
   "metadata": {},
   "outputs": [
    {
     "name": "stdout",
     "output_type": "stream",
     "text": [
      "<class 'int'>\n",
      "54321\n"
     ]
    }
   ],
   "source": [
    "num = 12345\n",
    "res = str(num)[::-1]\n",
    "print(res)"
   ]
  },
  {
   "cell_type": "code",
   "execution_count": null,
   "id": "2f517ea8",
   "metadata": {},
   "outputs": [],
   "source": [
    "# conditions in python there are 4 conditional statements\n",
    "# if\n",
    "#if-else\n",
    "# if-elseif\n",
    "# match case"
   ]
  },
  {
   "cell_type": "code",
   "execution_count": 1,
   "id": "90a91dfe",
   "metadata": {},
   "outputs": [
    {
     "name": "stdout",
     "output_type": "stream",
     "text": [
      "value => 200\n"
     ]
    }
   ],
   "source": [
    "data = int(input(\"enter data value\"))\n",
    "print(f\"value => {data}\")"
   ]
  },
  {
   "cell_type": "code",
   "execution_count": 18,
   "id": "a8a01ffe",
   "metadata": {},
   "outputs": [
    {
     "name": "stdout",
     "output_type": "stream",
     "text": [
      "you see a apple seller\n",
      "purchase 2kg of apples\n"
     ]
    }
   ],
   "source": [
    "print(\"you see a apple seller\")\n",
    "q = input(\"do you like apples\")\n",
    "\n",
    "if q=='yes' :\n",
    "    print('purchase 2kg of apples')\n",
    "if q=='no' :\n",
    "    print('you dont purchase apples')"
   ]
  },
  {
   "cell_type": "code",
   "execution_count": 10,
   "id": "d5456c34",
   "metadata": {},
   "outputs": [
    {
     "name": "stdout",
     "output_type": "stream",
     "text": [
      "you see a apple seller\n",
      "Buy 2kg apples\n"
     ]
    }
   ],
   "source": [
    "print(\"you see a apple seller\")\n",
    "q = input(\"do you like apples\")\n",
    "\n",
    "if q=='yes' :\n",
    "    print(\"Buy 2kg apples\")\n",
    "if q=='no' :\n",
    "    print(\"you dont buy apples\")"
   ]
  },
  {
   "cell_type": "code",
   "execution_count": null,
   "id": "f4d379da",
   "metadata": {},
   "outputs": [
    {
     "ename": "NameError",
     "evalue": "name 'da' is not defined",
     "output_type": "error",
     "traceback": [
      "\u001b[31m---------------------------------------------------------------------------\u001b[39m",
      "\u001b[31mNameError\u001b[39m                                 Traceback (most recent call last)",
      "\u001b[36mCell\u001b[39m\u001b[36m \u001b[39m\u001b[32mIn[19]\u001b[39m\u001b[32m, line 4\u001b[39m\n\u001b[32m      2\u001b[39m \u001b[38;5;28;01mif\u001b[39;00m salary > \u001b[32m50000\u001b[39m :\n\u001b[32m      3\u001b[39m     da = \u001b[32m.15\u001b[39m                  \u001b[38;5;66;03m# 15% dearness allowance\u001b[39;00m\n\u001b[32m----> \u001b[39m\u001b[32m4\u001b[39m total = salary + salary * \u001b[43mda\u001b[49m\n\u001b[32m      5\u001b[39m \u001b[38;5;28mprint\u001b[39m(total)\n",
      "\u001b[31mNameError\u001b[39m: name 'da' is not defined"
     ]
    }
   ],
   "source": [
    "# solution 1 - create the da variable before condition\n",
    "salary = 42000\n",
    "da = 0\n",
    "if salary > 50000 :\n",
    "    da = .15                  # 15% dearness allowance\n",
    "total = salary + salary * da\n",
    "print(total)"
   ]
  },
  {
   "cell_type": "code",
   "execution_count": 21,
   "id": "6b816406",
   "metadata": {},
   "outputs": [
    {
     "ename": "NameError",
     "evalue": "name 'da' is not defined",
     "output_type": "error",
     "traceback": [
      "\u001b[31m---------------------------------------------------------------------------\u001b[39m",
      "\u001b[31mNameError\u001b[39m                                 Traceback (most recent call last)",
      "\u001b[36mCell\u001b[39m\u001b[36m \u001b[39m\u001b[32mIn[21]\u001b[39m\u001b[32m, line 1\u001b[39m\n\u001b[32m----> \u001b[39m\u001b[32m1\u001b[39m \u001b[38;5;28;01mdel\u001b[39;00m \u001b[43mda\u001b[49m\n",
      "\u001b[31mNameError\u001b[39m: name 'da' is not defined"
     ]
    }
   ],
   "source": [
    "del da"
   ]
  },
  {
   "cell_type": "code",
   "execution_count": 3,
   "id": "d9979ae3",
   "metadata": {},
   "outputs": [
    {
     "name": "stdout",
     "output_type": "stream",
     "text": [
      "42000\n"
     ]
    }
   ],
   "source": [
    "# solution 2 - use if else\n",
    "salary = 42000\n",
    "if salary > 50000 :\n",
    "    da = .15                  \n",
    "    total = salary + salary * da\n",
    "else :\n",
    "    total = salary\n",
    "print(total)"
   ]
  },
  {
   "cell_type": "code",
   "execution_count": 4,
   "id": "7ace95e0",
   "metadata": {},
   "outputs": [
    {
     "name": "stdout",
     "output_type": "stream",
     "text": [
      "42000\n"
     ]
    }
   ],
   "source": [
    "salary = 42000\n",
    "if salary > 50000 :\n",
    "    da = .15                  \n",
    "    total = salary + salary * da\n",
    "    print(total)\n",
    "else :\n",
    "    total = salary\n",
    "    print(total)"
   ]
  },
  {
   "cell_type": "code",
   "execution_count": null,
   "id": "fd378582",
   "metadata": {},
   "outputs": [
    {
     "name": "stdout",
     "output_type": "stream",
     "text": [
      "10\n"
     ]
    }
   ],
   "source": [
    "x = int(input(\"Enter x value :\"))\n",
    "y = int(input(\"Enter y value :\"))\n",
    "if x>y :\n",
    "    q=x-y\n",
    "else :\n",
    "    q=y-x\n",
    "print(q)\n"
   ]
  },
  {
   "cell_type": "code",
   "execution_count": 6,
   "id": "2b4cf86d",
   "metadata": {},
   "outputs": [
    {
     "name": "stdout",
     "output_type": "stream",
     "text": [
      "long movie name : bahubali the conclusion\n",
      "The End\n"
     ]
    }
   ],
   "source": [
    "name = input(\"Enter your fav movie : \")\n",
    "if len(name) > 10 :\n",
    "    print(f\"long movie name : {name}\")\n",
    "else :\n",
    "    print(f\"short movie name : {name}\")\n",
    "print(\"The End\")"
   ]
  },
  {
   "cell_type": "markdown",
   "id": "c822a525",
   "metadata": {},
   "source": [
    "### handling multiple conditions using if-elif"
   ]
  },
  {
   "cell_type": "code",
   "execution_count": null,
   "id": "299e0b32",
   "metadata": {},
   "outputs": [
    {
     "name": "stdout",
     "output_type": "stream",
     "text": [
      "2 5 6\n"
     ]
    }
   ],
   "source": [
    "a,b,c = 2, 5, 6\n",
    "print(a,b,c)\n"
   ]
  },
  {
   "cell_type": "code",
   "execution_count": null,
   "id": "a1521e7f",
   "metadata": {},
   "outputs": [
    {
     "name": "stdout",
     "output_type": "stream",
     "text": [
      "What is the capital of India\n",
      "Please enter a correct capital of india\n"
     ]
    }
   ],
   "source": [
    "\n",
    "\n",
    "print(\"What is the capital of India\")\n",
    "answer = input(\"Answer\")\n",
    "if answer == \"Delhi\" :\n",
    "    print(\"You are correct\")\n",
    "if answer == \"New Delhi\" :\n",
    "    print(\"you are very Correct \")\n",
    "if answer == \"I don't know\" :\n",
    "    print(\"u Must be sleeping under the rock\")\n",
    "if answer == \"Shimla\" :\n",
    "    print(\"U must be from Britain\")\n",
    "if answer == \"\" :\n",
    "    print(\"Please enter a correct capital of india\")"
   ]
  },
  {
   "cell_type": "code",
   "execution_count": null,
   "id": "a1507f7e",
   "metadata": {},
   "outputs": [
    {
     "name": "stdout",
     "output_type": "stream",
     "text": [
      "Your Grade is : A \n"
     ]
    }
   ],
   "source": [
    "# with elif\n",
    "\n",
    "marks = int(input(\"Enter your total marks in 10th : \"))\n",
    "if marks > 90 :\n",
    "    print(\"Your Grade is : A \")\n",
    "elif marks > 75 :\n",
    "    print(\"Your Grade is : B \")\n",
    "elif marks > 60 :\n",
    "    print(\"Your Grade is : C \")\n",
    "elif marks > 40 :\n",
    "    print(\"Your Grade is : D \")\n",
    "elif marks <40 :\n",
    "    print(\"Your are FAIL ☠️ \")\n",
    "\n"
   ]
  },
  {
   "cell_type": "code",
   "execution_count": 28,
   "id": "c7283f4d",
   "metadata": {},
   "outputs": [
    {
     "name": "stdout",
     "output_type": "stream",
     "text": [
      "Your Grade is : B \n"
     ]
    }
   ],
   "source": [
    "# Without elif\n",
    "\n",
    "marks = int(input(\"Enter your total marks in 10th : \"))\n",
    "if marks > 90 and marks <=100 :\n",
    "    print(\"Your Grade is : A \")\n",
    "if marks > 75 and marks <=90 :\n",
    "    print(\"Your Grade is : B \")\n",
    "if marks > 60 and marks <=75 :\n",
    "    print(\"Your Grade is : C \")\n",
    "if marks > 40 and marks <=60 :\n",
    "    print(\"Your Grade is : D \")\n",
    "if marks <40 :\n",
    "    print(\"Your are FAIL ☠️ \")\n"
   ]
  },
  {
   "cell_type": "code",
   "execution_count": 32,
   "id": "fd9e4789",
   "metadata": {},
   "outputs": [
    {
     "name": "stdout",
     "output_type": "stream",
     "text": [
      "frds salary = > 60000\n",
      "frds total = > 57000.0\n"
     ]
    }
   ],
   "source": [
    "# salary calculator\n",
    "\n",
    "salary = int(input(\"Enter Your frds salary :\"))\n",
    "\n",
    "if salary > 100000 :\n",
    "    total = salary - salary *  .2\n",
    "elif salary > 80000 :\n",
    "    total = salary - salary * .1\n",
    "elif salary > 50000 :\n",
    "    total = salary - salary * .05\n",
    "else : \n",
    "    total = salary + 10000\n",
    "print (f\"frds salary = > {salary}\")\n",
    "print (f\"frds total = > {total}\")"
   ]
  },
  {
   "cell_type": "markdown",
   "id": "ebd3af9d",
   "metadata": {},
   "source": [
    "# match case"
   ]
  },
  {
   "cell_type": "code",
   "execution_count": 13,
   "id": "172aaffd",
   "metadata": {},
   "outputs": [
    {
     "name": "stdout",
     "output_type": "stream",
     "text": [
      "Today is monday\n"
     ]
    }
   ],
   "source": [
    "day = input(\"What is day today\")\n",
    "match day:\n",
    "    case \"Monday\" : print(\"Today is monday\")\n",
    "    case \"Sunday\" : print(\"Holiday\")\n",
    "    case \"Friday\" : print(\"waiting for the weekend\")\n",
    "    case \"Saturday\" : print(\"The Best day of the week\")\n",
    "    case default : print(\"It's not an option\")"
   ]
  },
  {
   "cell_type": "code",
   "execution_count": 15,
   "id": "c5399068",
   "metadata": {},
   "outputs": [
    {
     "name": "stdout",
     "output_type": "stream",
     "text": [
      "Tell me some Movies\n",
      "Adam Project , Nimona , InterSellar\n"
     ]
    }
   ],
   "source": [
    "print(\"Tell me some Movies\")\n",
    "genre = input(\"What genre do you like\")\n",
    "match genre :\n",
    "    case \"action\" :\n",
    "        print(\"Avengers , Deadpool , Fast & Furious\")\n",
    "    case \"Horror\" :\n",
    "        print(\"IT , NUN , The Nightmare\")\n",
    "    case \"fantasy\" :\n",
    "        print(\"Lord of the raising series , Harry potter series\")\n",
    "    case \"sci-fi\" | \"comedy\" :\n",
    "        print(\"Adam Project , Nimona , InterSellar\")\n",
    "    case default :\n",
    "        print(\"You should not watch any movies\")"
   ]
  },
  {
   "cell_type": "markdown",
   "id": "75683996",
   "metadata": {},
   "source": [
    "# nested if\n",
    "\n",
    "if cond\n",
    "    if cond\n",
    "        if cond\n",
    "            statement\n",
    "        else:\n",
    "            statement\n",
    "    else:\n",
    "        statement\n",
    "else :\n",
    "    statement\n",
    "    ........."
   ]
  },
  {
   "cell_type": "code",
   "execution_count": 27,
   "id": "3787d2b1",
   "metadata": {},
   "outputs": [
    {
     "name": "stdout",
     "output_type": "stream",
     "text": [
      "you escaped and find a lion\n",
      "you escaped again and find a car\n",
      "The bear & lion catch and kill you\n"
     ]
    }
   ],
   "source": [
    "ans = input(\"You see a bear , would like to fight it y/n\")\n",
    "if ans == \"n\" :\n",
    "    print(\"you escaped and find a lion\")\n",
    "    ans2 = input(\"you want to fight it y/n\")\n",
    "    if ans2 == \"n\" :\n",
    "        print(\"you escaped again and find a car\")\n",
    "        ans3 = input(\"you want to drive it y/n\")\n",
    "        if ans== 'y' :\n",
    "            print(\"you escaped the area\")\n",
    "        else :\n",
    "            print(\"The bear & lion catch and kill you\")\n",
    "    else:\n",
    "        print(\"you failed miserably and died\")\n",
    "else:\n",
    "    print(\"The bear destroyed you\")"
   ]
  },
  {
   "cell_type": "code",
   "execution_count": 28,
   "id": "4d01f15f",
   "metadata": {},
   "outputs": [
    {
     "name": "stdout",
     "output_type": "stream",
     "text": [
      "the total is 28\n"
     ]
    }
   ],
   "source": [
    "a , b , c = 10, 5, 23\n",
    "if a > b :\n",
    "    if a > c :\n",
    "        total = a+b+c\n",
    "        if total > 100 :\n",
    "            print(f\"The total is big {total}\")\n",
    "        else :\n",
    "            print(f\"The total is small value = {total}\")\n",
    "    else :\n",
    "        total = c + b\n",
    "        print(f\"the total is {total}\")\n",
    "else :\n",
    "    print(\"the total was calculated\")\n",
    "        "
   ]
  },
  {
   "cell_type": "code",
   "execution_count": 4,
   "id": "d6addb1d",
   "metadata": {},
   "outputs": [
    {
     "name": "stdout",
     "output_type": "stream",
     "text": [
      "1\n",
      "2\n",
      "3\n",
      "4\n",
      "5\n",
      "6\n",
      "7\n",
      "8\n",
      "9\n"
     ]
    }
   ],
   "source": [
    "for i in range(1,10):\n",
    "    print(i)"
   ]
  }
 ],
 "metadata": {
  "kernelspec": {
   "display_name": "Python 3",
   "language": "python",
   "name": "python3"
  },
  "language_info": {
   "codemirror_mode": {
    "name": "ipython",
    "version": 3
   },
   "file_extension": ".py",
   "mimetype": "text/x-python",
   "name": "python",
   "nbconvert_exporter": "python",
   "pygments_lexer": "ipython3",
   "version": "3.12.5"
  }
 },
 "nbformat": 4,
 "nbformat_minor": 5
}
