{
 "cells": [
  {
   "cell_type": "code",
   "execution_count": 1,
   "id": "ad92e500",
   "metadata": {},
   "outputs": [],
   "source": [
    "movies=['fast and furious','Jurassic World','The Dark Knight','Titanic',\n",
    "        'The Avengers','Inception','Martian','IT','Star Wars','Top Gun:Maverick,',\n",
    "        'Jhonny English','Fifty Shades Grey','Fifty Shades Freed']\n"
   ]
  },
  {
   "cell_type": "code",
   "execution_count": 8,
   "id": "878235c2",
   "metadata": {},
   "outputs": [
    {
     "name": "stdout",
     "output_type": "stream",
     "text": [
      "['fast and furious', 'Jurassic World', 'The Dark Knight', 'Titanic', 'The Avengers', 'Inception', 'Martian', 'IT', 'Star Wars', 'Top Gun:Maverick,', 'Jhonny English', 'Fifty Shades Grey', 'Fifty Shades Freed']\n",
      "[16, 14, 15, 7, 12, 9, 7, 2, 9, 17, 14, 17, 18]\n"
     ]
    }
   ],
   "source": [
    "movieslen=[]\n",
    "for movie in movies :\n",
    "    size = len(movie)\n",
    "    movieslen.append(size)\n",
    "print(movies)\n",
    "print(movieslen)"
   ]
  },
  {
   "cell_type": "code",
   "execution_count": 9,
   "id": "d421ac76",
   "metadata": {},
   "outputs": [
    {
     "name": "stdout",
     "output_type": "stream",
     "text": [
      "['fast and furious', 'Jurassic World', 'The Dark Knight', 'Titanic', 'The Avengers', 'Inception', 'Martian', 'IT', 'Star Wars', 'Top Gun:Maverick,', 'Jhonny English', 'Fifty Shades Grey', 'Fifty Shades Freed']\n",
      "[16, 14, 15, 7, 12, 9, 7, 2, 9, 17, 14, 17, 18]\n"
     ]
    }
   ],
   "source": [
    "movielen=[len(movie) for movie in movies]\n",
    "print(movies)\n",
    "print(movielen)"
   ]
  },
  {
   "cell_type": "markdown",
   "id": "ea1c46e4",
   "metadata": {},
   "source": [
    "String Creation"
   ]
  },
  {
   "cell_type": "code",
   "execution_count": 3,
   "id": "c9c7bb89",
   "metadata": {},
   "outputs": [
    {
     "name": "stdout",
     "output_type": "stream",
     "text": [
      "apple banana This is chocolatr cake\n"
     ]
    }
   ],
   "source": [
    "a='apple'\n",
    "b=\"banana\"\n",
    "c='''This is chocolatr cake'''\n",
    "print(a,b,c)"
   ]
  },
  {
   "cell_type": "markdown",
   "id": "17ae0dd1",
   "metadata": {},
   "source": [
    "Typecasting"
   ]
  },
  {
   "cell_type": "code",
   "execution_count": 4,
   "id": "1062579c",
   "metadata": {},
   "outputs": [
    {
     "name": "stdout",
     "output_type": "stream",
     "text": [
      "10 <class 'str'>\n",
      "['apple', 'banana'] <class 'str'>\n"
     ]
    }
   ],
   "source": [
    "x=str(10)\n",
    "y=str([\"apple\",\"banana\"])\n",
    "print(x,type(x))\n",
    "print(y,type(y))"
   ]
  },
  {
   "cell_type": "code",
   "execution_count": 20,
   "id": "21addc8d",
   "metadata": {},
   "outputs": [
    {
     "name": "stdout",
     "output_type": "stream",
     "text": [
      "pointe\n"
     ]
    }
   ],
   "source": [
    "x='disappointed'\n",
    "y=x[5:11]\n",
    "print(y)"
   ]
  },
  {
   "cell_type": "code",
   "execution_count": 18,
   "id": "6c5b8da6",
   "metadata": {},
   "outputs": [
    {
     "name": "stdout",
     "output_type": "stream",
     "text": [
      "Jhonny Jhonny, Yes Papa,\n"
     ]
    }
   ],
   "source": [
    "poem = \"\"\"Jhonny Jhonny, Yes Papa,\n",
    "Eating sugar? No Papa,\n",
    "Telling lies? No Papa,\n",
    "Open your mouth! Ha Ha Ha!\"\"\"\n",
    "y=poem[0:24]\n",
    "print(y)"
   ]
  }
 ],
 "metadata": {
  "kernelspec": {
   "display_name": "Python 3",
   "language": "python",
   "name": "python3"
  },
  "language_info": {
   "codemirror_mode": {
    "name": "ipython",
    "version": 3
   },
   "file_extension": ".py",
   "mimetype": "text/x-python",
   "name": "python",
   "nbconvert_exporter": "python",
   "pygments_lexer": "ipython3",
   "version": "3.12.5"
  }
 },
 "nbformat": 4,
 "nbformat_minor": 5
}
