{
 "cells": [
  {
   "cell_type": "code",
   "execution_count": 1,
   "id": "ad92e500",
   "metadata": {},
   "outputs": [],
   "source": [
    "movies=['fast and furious','Jurassic World','The Dark Knight','Titanic',\n",
    "        'The Avengers','Inception','Martian','IT','Star Wars','Top Gun:Maverick,',\n",
    "        'Jhonny English','Fifty Shades Grey','Fifty Shades Freed']\n"
   ]
  },
  {
   "cell_type": "code",
   "execution_count": 8,
   "id": "878235c2",
   "metadata": {},
   "outputs": [
    {
     "name": "stdout",
     "output_type": "stream",
     "text": [
      "['fast and furious', 'Jurassic World', 'The Dark Knight', 'Titanic', 'The Avengers', 'Inception', 'Martian', 'IT', 'Star Wars', 'Top Gun:Maverick,', 'Jhonny English', 'Fifty Shades Grey', 'Fifty Shades Freed']\n",
      "[16, 14, 15, 7, 12, 9, 7, 2, 9, 17, 14, 17, 18]\n"
     ]
    }
   ],
   "source": [
    "movieslen=[]\n",
    "for movie in movies :\n",
    "    size = len(movie)\n",
    "    movieslen.append(size)\n",
    "print(movies)\n",
    "print(movieslen)"
   ]
  },
  {
   "cell_type": "code",
   "execution_count": 9,
   "id": "d421ac76",
   "metadata": {},
   "outputs": [
    {
     "name": "stdout",
     "output_type": "stream",
     "text": [
      "['fast and furious', 'Jurassic World', 'The Dark Knight', 'Titanic', 'The Avengers', 'Inception', 'Martian', 'IT', 'Star Wars', 'Top Gun:Maverick,', 'Jhonny English', 'Fifty Shades Grey', 'Fifty Shades Freed']\n",
      "[16, 14, 15, 7, 12, 9, 7, 2, 9, 17, 14, 17, 18]\n"
     ]
    }
   ],
   "source": [
    "movielen=[len(movie) for movie in movies]\n",
    "print(movies)\n",
    "print(movielen)"
   ]
  }
 ],
 "metadata": {
  "kernelspec": {
   "display_name": "Python 3",
   "language": "python",
   "name": "python3"
  },
  "language_info": {
   "codemirror_mode": {
    "name": "ipython",
    "version": 3
   },
   "file_extension": ".py",
   "mimetype": "text/x-python",
   "name": "python",
   "nbconvert_exporter": "python",
   "pygments_lexer": "ipython3",
   "version": "3.12.5"
  }
 },
 "nbformat": 4,
 "nbformat_minor": 5
}
