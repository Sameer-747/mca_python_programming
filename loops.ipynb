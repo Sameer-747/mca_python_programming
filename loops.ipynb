{
 "cells": [
  {
   "cell_type": "markdown",
   "id": "9e97da32",
   "metadata": {},
   "source": [
    "# we have To types of loops :\n",
    "\n",
    "for (LOOP) :\n",
    "-> step based loop\n",
    "\n",
    "while (LOOP) :\n",
    "-> condition expression based loop\n",
    "\n",
    ": (COLON) -> IT CRAETES A BLOCK OF CODE\n",
    "\n",
    "(\n",
    "    _ (or) i  ->(underscore is loop variable are we can kept any variable)\n",
    "    in ->(Member ship operator)\n",
    "    : -> (colon)\n",
    ")"
   ]
  },
  {
   "cell_type": "code",
   "execution_count": 2,
   "id": "f1cd00fb",
   "metadata": {},
   "outputs": [
    {
     "name": "stdout",
     "output_type": "stream",
     "text": [
      "1\n",
      "2\n",
      "3\n",
      "4\n",
      "5\n",
      "6\n",
      "7\n",
      "8\n",
      "9\n",
      "10\n",
      "11\n",
      "12\n",
      "13\n",
      "14\n",
      "15\n"
     ]
    }
   ],
   "source": [
    "for i in range(1,16) :\n",
    "    print(i)"
   ]
  },
  {
   "cell_type": "code",
   "execution_count": 3,
   "id": "b07b0aa5",
   "metadata": {},
   "outputs": [
    {
     "name": "stdout",
     "output_type": "stream",
     "text": [
      "5\n",
      "6\n",
      "7\n",
      "8\n",
      "9\n"
     ]
    }
   ],
   "source": [
    "a = 5\n",
    "b = 10\n",
    "for i in range(a,b) :\n",
    "    print(i)"
   ]
  },
  {
   "cell_type": "code",
   "execution_count": 8,
   "id": "be23ab06",
   "metadata": {},
   "outputs": [
    {
     "name": "stdout",
     "output_type": "stream",
     "text": [
      "10\n",
      "11\n",
      "12\n",
      "13\n",
      "14\n",
      "15\n",
      "16\n",
      "17\n",
      "18\n",
      "19\n"
     ]
    }
   ],
   "source": [
    "x = int(input(\"Enter start point :\"))\n",
    "y = int(input(\"Enter End point :\"))\n",
    "for i in range(x,y) :\n",
    "    print(i)"
   ]
  },
  {
   "cell_type": "code",
   "execution_count": 9,
   "id": "cd753f2d",
   "metadata": {},
   "outputs": [
    {
     "name": "stdout",
     "output_type": "stream",
     "text": [
      "12 * 1 = 12\n",
      "12 * 2 = 24\n",
      "12 * 3 = 36\n",
      "12 * 4 = 48\n",
      "12 * 5 = 60\n",
      "12 * 6 = 72\n",
      "12 * 7 = 84\n",
      "12 * 8 = 96\n",
      "12 * 9 = 108\n",
      "12 * 10 = 120\n"
     ]
    }
   ],
   "source": [
    "size = 10 \n",
    "for i in range(1,size+1):\n",
    "    print(f\"12 * {i} = {12 * i}\")"
   ]
  },
  {
   "cell_type": "markdown",
   "id": "1d64aba5",
   "metadata": {},
   "source": [
    "# RANGE()\n",
    "range(5)  -> 0 1 2 3 4 \n",
    "range(6)  -> 0 1 2 3 4 5\n",
    "range(10 , 14)  -> 10 11 12 13\n",
    "range(2(start) , 6(stop)) -> 2 3 4 5\n",
    "range() -> error\n",
    "range(1 , 10 , 2) -> 1 3 5 7 9"
   ]
  },
  {
   "cell_type": "code",
   "execution_count": 1,
   "id": "ad1ed043",
   "metadata": {},
   "outputs": [
    {
     "name": "stdout",
     "output_type": "stream",
     "text": [
      "1\n",
      "3\n",
      "5\n",
      "7\n",
      "9\n",
      "11\n",
      "13\n",
      "15\n",
      "17\n",
      "19\n"
     ]
    }
   ],
   "source": [
    "for i in range(1,20,2) :\n",
    "    print(i)"
   ]
  },
  {
   "cell_type": "code",
   "execution_count": 4,
   "id": "c413b1fa",
   "metadata": {},
   "outputs": [
    {
     "name": "stdout",
     "output_type": "stream",
     "text": [
      "100\n",
      "102\n",
      "104\n",
      "106\n",
      "108\n",
      "110\n",
      "112\n",
      "114\n",
      "116\n",
      "118\n",
      "120\n",
      "122\n",
      "124\n",
      "126\n",
      "128\n",
      "130\n",
      "132\n",
      "134\n",
      "136\n",
      "138\n",
      "140\n",
      "142\n",
      "144\n",
      "146\n",
      "148\n",
      "150\n",
      "152\n",
      "154\n",
      "156\n",
      "158\n",
      "160\n",
      "162\n",
      "164\n",
      "166\n",
      "168\n",
      "170\n",
      "172\n",
      "174\n",
      "176\n",
      "178\n",
      "180\n",
      "182\n",
      "184\n",
      "186\n",
      "188\n",
      "190\n",
      "192\n",
      "194\n",
      "196\n",
      "198\n",
      "200\n"
     ]
    }
   ],
   "source": [
    "for i in range(100 , 201 ,2) :\n",
    "    print(i)"
   ]
  },
  {
   "cell_type": "code",
   "execution_count": 5,
   "id": "a98e6adc",
   "metadata": {},
   "outputs": [
    {
     "name": "stdout",
     "output_type": "stream",
     "text": [
      "['red', 'blue', 'green']\n"
     ]
    }
   ],
   "source": [
    "colors = ['red' , 'blue' , 'green']\n",
    "print(colors)"
   ]
  },
  {
   "cell_type": "code",
   "execution_count": 6,
   "id": "2579b261",
   "metadata": {},
   "outputs": [
    {
     "name": "stdout",
     "output_type": "stream",
     "text": [
      "red\n",
      "blue\n",
      "green\n"
     ]
    }
   ],
   "source": [
    "for colors in colors :\n",
    "    print(colors)"
   ]
  },
  {
   "cell_type": "code",
   "execution_count": 11,
   "id": "bf97c725",
   "metadata": {},
   "outputs": [
    {
     "name": "stdout",
     "output_type": "stream",
     "text": [
      "1 3 5 7 9 11 13 15 17 19 21 23 25 27 29 31 33 35 37 39 41 43 45 47 49 51 53 55 57 59 61 63 65 67 69 71 73 75 77 79 81 83 85 87 89 91 93 95 97 "
     ]
    }
   ],
   "source": [
    "# Print odd numbers from 100 to 200 in horizontal line\n",
    "for i in range(1, 99, 2):   # start from 101 (first odd after 100)\n",
    "    print(i, end=\" \")"
   ]
  },
  {
   "cell_type": "code",
   "execution_count": 1,
   "id": "9a9ff2b3",
   "metadata": {},
   "outputs": [
    {
     "name": "stdout",
     "output_type": "stream",
     "text": [
      "-10 -7 -4 -1 2 5 8 "
     ]
    }
   ],
   "source": [
    "for i in range(-10,10,3):   \n",
    "    print(i, end=\" \")"
   ]
  },
  {
   "cell_type": "markdown",
   "id": "a3a47c05",
   "metadata": {},
   "source": [
    "# loop with Conditions\n",
    "\n",
    "Syntax :\n",
    "    for var in iterable :\n",
    "        if condition:\n",
    "            statement\n",
    "        else:\n",
    "            statement"
   ]
  },
  {
   "cell_type": "code",
   "execution_count": 5,
   "id": "2a332f50",
   "metadata": {},
   "outputs": [
    {
     "name": "stdout",
     "output_type": "stream",
     "text": [
      "1\n",
      "3\n",
      "5\n",
      "7\n",
      "9\n"
     ]
    }
   ],
   "source": [
    "for i in range(1,11) :\n",
    "    if i %2!=0 :\n",
    "        print(i)"
   ]
  },
  {
   "cell_type": "code",
   "execution_count": 7,
   "id": "3b1fb1eb",
   "metadata": {},
   "outputs": [
    {
     "name": "stdout",
     "output_type": "stream",
     "text": [
      "odd Numbers\n",
      "odd Numbers\n",
      "odd Numbers\n",
      "odd Numbers\n",
      "144\n",
      "odd Numbers\n"
     ]
    }
   ],
   "source": [
    "nums = [1, 5,11,3,12,15]\n",
    "for i in nums:\n",
    "    if i %2==0:\n",
    "        s=i**2\n",
    "        print(s)\n",
    "    else:\n",
    "        print(\"odd Numbers\")"
   ]
  },
  {
   "cell_type": "code",
   "execution_count": 20,
   "id": "a732b2bb",
   "metadata": {},
   "outputs": [
    {
     "name": "stdout",
     "output_type": "stream",
     "text": [
      "5\n",
      "5\n",
      "5\n",
      "5\n"
     ]
    }
   ],
   "source": [
    "#display square of odd num\n",
    "num = [1,3,5,7]\n",
    "for i in num:\n",
    "    if i%2!=0:\n",
    "        s = i**3\n",
    "        print(5)\n",
    "    else:\n",
    "        print(\"even number\")    "
   ]
  },
  {
   "cell_type": "code",
   "execution_count": 21,
   "id": "77461429",
   "metadata": {},
   "outputs": [
    {
     "name": "stdout",
     "output_type": "stream",
     "text": [
      "the area for 3 is 28.26\n",
      "the area for 5 is 78.5\n",
      "the area for 6 is 113.04\n",
      "the area for 11 is 379.94\n",
      "the area for 10 is 314.0\n"
     ]
    }
   ],
   "source": [
    "radius = [3,5,6,11,10]\n",
    "for r in radius:\n",
    "    area = 3.14*r**2\n",
    "    print(f\"the area for {r} is {area}\")"
   ]
  },
  {
   "cell_type": "code",
   "execution_count": 23,
   "id": "fb85d4cd",
   "metadata": {},
   "outputs": [
    {
     "name": "stdout",
     "output_type": "stream",
     "text": [
      "pubg\n"
     ]
    }
   ],
   "source": [
    "games = ['freefire' , 'gensin Impact' , 'pubg' , 'aspahalt Nitro']\n",
    "for g in games:\n",
    "    if g.startswith('p'):\n",
    "        print(g)"
   ]
  },
  {
   "cell_type": "code",
   "execution_count": 25,
   "id": "e12c95ae",
   "metadata": {},
   "outputs": [
    {
     "name": "stdout",
     "output_type": "stream",
     "text": [
      "book -> The final Empire\n",
      "book -> The well of Ascension\n",
      "book -> The alloy of law\n",
      "book -> The way of kings\n"
     ]
    }
   ],
   "source": [
    "books = ['The final Empire' , 'Warbeaker' ,'Elantris' , 'The well of Ascension' , 'The alloy of law' , 'Hero of age' , 'The way of kings']\n",
    "for book in books:\n",
    "    if \"The\" in book :\n",
    "        print(f\"book -> {book}\")"
   ]
  },
  {
   "cell_type": "code",
   "execution_count": 7,
   "id": "02eb4ceb",
   "metadata": {},
   "outputs": [
    {
     "name": "stdout",
     "output_type": "stream",
     "text": [
      "6704425728000\n"
     ]
    }
   ],
   "source": [
    "total = 1\n",
    "for num in range(10,21):\n",
    "    total = total*num\n",
    "print(total)"
   ]
  },
  {
   "cell_type": "code",
   "execution_count": 8,
   "id": "f7c0aad7",
   "metadata": {},
   "outputs": [
    {
     "name": "stdout",
     "output_type": "stream",
     "text": [
      "33\n"
     ]
    }
   ],
   "source": [
    "nums = [5,11,2,3,10,33]\n",
    "m = 0\n",
    "for num in nums :\n",
    "    if num>m:\n",
    "        m=num\n",
    "print(m)"
   ]
  },
  {
   "cell_type": "code",
   "execution_count": 15,
   "id": "9f21980c",
   "metadata": {},
   "outputs": [
    {
     "name": "stdout",
     "output_type": "stream",
     "text": [
      "Total count = 8\n"
     ]
    }
   ],
   "source": [
    "num = [25,26,27,28,29,30,31,32,33,34,35,36,37,38,39,40,41,42,43,44,45,46,47,48,49,50]\n",
    "count = 0\n",
    "for i in num:\n",
    "    if i % 3 == 0:\n",
    "        count = count + 1\n",
    "print(f\"Total count = {count}\")"
   ]
  },
  {
   "cell_type": "code",
   "execution_count": 16,
   "id": "95e0bf47",
   "metadata": {},
   "outputs": [
    {
     "name": "stdout",
     "output_type": "stream",
     "text": [
      "Total count = 13\n"
     ]
    }
   ],
   "source": [
    "num = [25,26,27,28,29,30,31,32,33,34,35,36,37,38,39,40,41,42,43,44,45,46,47,48,49,50]\n",
    "count = 0\n",
    "for i in num:\n",
    "    if i % 2 == 0:\n",
    "        count = count + 1\n",
    "print(f\"Total count = {count}\")"
   ]
  },
  {
   "cell_type": "code",
   "execution_count": 5,
   "id": "80ab343a",
   "metadata": {},
   "outputs": [
    {
     "name": "stdout",
     "output_type": "stream",
     "text": [
      "Count 5\n"
     ]
    }
   ],
   "source": [
    "movies = [\"Harry Potter 1\" , \"Harry Potter 2\" , \"Harry Potter 3\" , \"Harry Potter 4\" ,\n",
    "          \"Harry Potter 5\", \"Harry Potter 6\" , \"Harry Potter 7\" , \"Harry Potter 8\",\n",
    "          \"Fast and Furious 1\" ,\"Fast and Furious 2\" , \"Fast and Furious 3\" ,\n",
    "          \"Fast and Furious 4 \" , \"Fast and Furious 5\"]\n",
    "\n",
    "movies_with_h = 0\n",
    "for movie in movies:\n",
    "    if movie.startswith(\"F\") or movie.startswith(\"f\"):\n",
    "        # long way -> movies_with_h = movies_with_h + 1\n",
    "        movies_with_h +=1\n",
    "print(\"Count\",movies_with_h)"
   ]
  },
  {
   "cell_type": "code",
   "execution_count": 14,
   "id": "297970b0",
   "metadata": {},
   "outputs": [
    {
     "name": "stdout",
     "output_type": "stream",
     "text": [
      "3628800\n"
     ]
    }
   ],
   "source": [
    "num = 10\n",
    "fact = 1\n",
    "for i in range(num,0,-1):\n",
    "    fact = fact * i\n",
    "print(fact)\n",
    "    "
   ]
  },
  {
   "cell_type": "code",
   "execution_count": 15,
   "id": "c6db6adc",
   "metadata": {},
   "outputs": [
    {
     "name": "stdout",
     "output_type": "stream",
     "text": [
      "10 * 1\n",
      "9 * 10\n",
      "8 * 90\n",
      "7 * 720\n",
      "6 * 5040\n",
      "5 * 30240\n",
      "4 * 151200\n",
      "3 * 604800\n",
      "2 * 1814400\n",
      "1 * 3628800\n",
      "3628800\n"
     ]
    }
   ],
   "source": [
    "num = 10\n",
    "fact = 1\n",
    "for i in range(num,0,-1):\n",
    "    print(f'{i} * {fact}' )\n",
    "    fact = fact * i\n",
    "print(fact)\n",
    "    "
   ]
  },
  {
   "cell_type": "markdown",
   "id": "abbd8dd2",
   "metadata": {},
   "source": [
    "# Nested loop\n",
    "for loop:\n",
    "    for loop:\n",
    "        for loop:\n",
    "            ...."
   ]
  },
  {
   "cell_type": "code",
   "execution_count": 18,
   "id": "ca5eec5f",
   "metadata": {},
   "outputs": [
    {
     "name": "stdout",
     "output_type": "stream",
     "text": [
      " i = 1,j = 1\n",
      " i = 1,j = 2\n",
      " i = 1,j = 3\n",
      " i = 1,j = 4\n",
      " i = 1,j = 5\n",
      " i = 2,j = 1\n",
      " i = 2,j = 2\n",
      " i = 2,j = 3\n",
      " i = 2,j = 4\n",
      " i = 2,j = 5\n",
      " i = 3,j = 1\n",
      " i = 3,j = 2\n",
      " i = 3,j = 3\n",
      " i = 3,j = 4\n",
      " i = 3,j = 5\n",
      " i = 4,j = 1\n",
      " i = 4,j = 2\n",
      " i = 4,j = 3\n",
      " i = 4,j = 4\n",
      " i = 4,j = 5\n",
      " i = 5,j = 1\n",
      " i = 5,j = 2\n",
      " i = 5,j = 3\n",
      " i = 5,j = 4\n",
      " i = 5,j = 5\n",
      " i = 6,j = 1\n",
      " i = 6,j = 2\n",
      " i = 6,j = 3\n",
      " i = 6,j = 4\n",
      " i = 6,j = 5\n",
      " i = 7,j = 1\n",
      " i = 7,j = 2\n",
      " i = 7,j = 3\n",
      " i = 7,j = 4\n",
      " i = 7,j = 5\n",
      " i = 8,j = 1\n",
      " i = 8,j = 2\n",
      " i = 8,j = 3\n",
      " i = 8,j = 4\n",
      " i = 8,j = 5\n",
      " i = 9,j = 1\n",
      " i = 9,j = 2\n",
      " i = 9,j = 3\n",
      " i = 9,j = 4\n",
      " i = 9,j = 5\n",
      " i = 10,j = 1\n",
      " i = 10,j = 2\n",
      " i = 10,j = 3\n",
      " i = 10,j = 4\n",
      " i = 10,j = 5\n"
     ]
    }
   ],
   "source": [
    "# Loops total 10*5 => 50 times\n",
    "for i in range(1,11):       # loop 10 times\n",
    "    for j in range(1,6):    # loop 5 times\n",
    "        print(f\" i = {i},j = {j}\")"
   ]
  },
  {
   "cell_type": "code",
   "execution_count": null,
   "id": "b689356c",
   "metadata": {},
   "outputs": [
    {
     "name": "stdout",
     "output_type": "stream",
     "text": [
      "1 2 3 4 5 \n",
      "1 2 3 4 5 \n",
      "1 2 3 4 5 \n",
      "1 2 3 4 5 \n",
      "1 2 3 4 5 \n"
     ]
    }
   ],
   "source": [
    "n = 6\n",
    "for i in range(1,n):\n",
    "    for j in range(1,n):     # don't change line till linear loop\n",
    "        print(j , end =' ')  # change line for the outer loop\n",
    "    print()"
   ]
  },
  {
   "cell_type": "code",
   "execution_count": 3,
   "id": "b8fe5c3e",
   "metadata": {},
   "outputs": [
    {
     "name": "stdout",
     "output_type": "stream",
     "text": [
      "1 1 1 1 1 1 1 1 1 \n",
      "2 2 2 2 2 2 2 2 2 \n",
      "3 3 3 3 3 3 3 3 3 \n",
      "4 4 4 4 4 4 4 4 4 \n",
      "5 5 5 5 5 5 5 5 5 \n",
      "6 6 6 6 6 6 6 6 6 \n",
      "7 7 7 7 7 7 7 7 7 \n",
      "8 8 8 8 8 8 8 8 8 \n",
      "9 9 9 9 9 9 9 9 9 \n"
     ]
    }
   ],
   "source": [
    "n = 10\n",
    "for i in range(1,n):\n",
    "    for j in range(1,n):\n",
    "        print(i , end =' ')\n",
    "    print()"
   ]
  },
  {
   "cell_type": "markdown",
   "id": "31d40579",
   "metadata": {},
   "source": [
    "### Jump Statement\n",
    "* continue -> To skip the step\n",
    "* break -> to stop the loop\n",
    "\n",
    "* Always used with a condition inside a loop"
   ]
  },
  {
   "cell_type": "code",
   "execution_count": 5,
   "id": "6b8887dd",
   "metadata": {},
   "outputs": [
    {
     "name": "stdout",
     "output_type": "stream",
     "text": [
      "1 2 4 5 7 8 10 11 13 14 16 17 19 20 22 23 "
     ]
    }
   ],
   "source": [
    "# skip every value divisible by 3\n",
    "\n",
    "for i in range(1,25):\n",
    "    if i%3==0:\n",
    "        continue\n",
    "    print(i , end=' ')"
   ]
  },
  {
   "cell_type": "code",
   "execution_count": 7,
   "id": "511d22b7",
   "metadata": {},
   "outputs": [
    {
     "name": "stdout",
     "output_type": "stream",
     "text": [
      "1 2 3 3 1 2 5 6 7 2 2 1 "
     ]
    }
   ],
   "source": [
    "data = [1,2,0,3,3,0,1,2,0,5,6,7,2,0,2,1]\n",
    "for i in data:\n",
    "    if i==0:\n",
    "        continue\n",
    "    print(i , end=' ')"
   ]
  },
  {
   "cell_type": "code",
   "execution_count": 9,
   "id": "5da8c95e",
   "metadata": {},
   "outputs": [
    {
     "name": "stdout",
     "output_type": "stream",
     "text": [
      "1 2 3 4 5 6 7 "
     ]
    }
   ],
   "source": [
    "for i in range(1,11):\n",
    "    if i==8:\n",
    "        break\n",
    "    print(i , end=' ')"
   ]
  },
  {
   "cell_type": "code",
   "execution_count": 17,
   "id": "3aa1566b",
   "metadata": {},
   "outputs": [
    {
     "name": "stdout",
     "output_type": "stream",
     "text": [
      "Enter 0 to stop the loop\n",
      "Total = 1634234\n"
     ]
    }
   ],
   "source": [
    "# add all values entered by user till he types 0\n",
    "\n",
    "total = 0\n",
    "print(\"Enter 0 to stop the loop\")\n",
    "for i in range(100):\n",
    "    value = int(input(\"Enter a vlaue\"))\n",
    "    if value == 0:\n",
    "        break\n",
    "    total += value #add the value to total\n",
    "print(f\"Total = {total}\")"
   ]
  }
 ],
 "metadata": {
  "kernelspec": {
   "display_name": "Python 3",
   "language": "python",
   "name": "python3"
  },
  "language_info": {
   "codemirror_mode": {
    "name": "ipython",
    "version": 3
   },
   "file_extension": ".py",
   "mimetype": "text/x-python",
   "name": "python",
   "nbconvert_exporter": "python",
   "pygments_lexer": "ipython3",
   "version": "3.12.5"
  }
 },
 "nbformat": 4,
 "nbformat_minor": 5
}
