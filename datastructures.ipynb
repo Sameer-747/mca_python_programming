{
 "cells": [
  {
   "cell_type": "code",
   "execution_count": 2,
   "id": "8253b555",
   "metadata": {},
   "outputs": [],
   "source": [
    "x=[]        #empty\n",
    "x=list()    #empty\n",
    "y=[1,2,3]   #direct initialization\n",
    "z=[]\n",
    "z.append(\"apple\")  #Adding single value\n",
    "z.append(\"cherry\")\n",
    "z.append(\"avacado\")"
   ]
  },
  {
   "cell_type": "code",
   "execution_count": 3,
   "id": "d6fc5e84",
   "metadata": {},
   "outputs": [
    {
     "name": "stdout",
     "output_type": "stream",
     "text": [
      "[1, 2, 3] [4, 5, 6] [1, 2, 3, 4, 5, 6]\n"
     ]
    }
   ],
   "source": [
    "x=[1,2,3]\n",
    "y=[4,5,6]\n",
    "z=x+y   #Concatenate list\n",
    "print(x,y,z)"
   ]
  },
  {
   "cell_type": "code",
   "execution_count": 4,
   "id": "c45360cb",
   "metadata": {},
   "outputs": [
    {
     "name": "stdout",
     "output_type": "stream",
     "text": [
      "[1, 1, 1, 1, 1, 1, 1, 1, 1, 1]\n",
      "[1, 2, 1, 2, 1, 2, 1, 2, 1, 2]\n",
      "[1, 1, 1, 1, 1, 1, 1, 1, 1, 1, 1, 1, 1, 1, 1, 1, 1, 1, 1, 1]\n"
     ]
    }
   ],
   "source": [
    "#list of duplicates\n",
    "\n",
    "a=[1] * 10\n",
    "print(a)\n",
    "b=[1,2]*5\n",
    "c=a*2\n",
    "print(b)\n",
    "print(c)"
   ]
  },
  {
   "cell_type": "code",
   "execution_count": 8,
   "id": "fab44a39",
   "metadata": {},
   "outputs": [
    {
     "name": "stdout",
     "output_type": "stream",
     "text": [
      "[1, 1, 1, 1, 1, 1, 1, 1, 1, 1]\n",
      "1\n",
      "1\n",
      "1\n",
      "1\n",
      "1\n",
      "1\n",
      "1\n",
      "1\n",
      "1\n",
      "1\n",
      "1\n",
      "1 1\n"
     ]
    }
   ],
   "source": [
    "print(a)        # raw input\n",
    "\n",
    "#displaying single item at a time using loop\n",
    "\n",
    "for item in a :\n",
    "    print(item)\n",
    "\n",
    "# single element using index\n",
    "print(a[0])\n",
    "print(a[3],a[5])"
   ]
  },
  {
   "cell_type": "code",
   "execution_count": 10,
   "id": "ddda4425",
   "metadata": {},
   "outputs": [
    {
     "name": "stdout",
     "output_type": "stream",
     "text": [
      "['sameer', 'bhargav', 'vishnu', 'madhav', 'yaswanth', 'hassan', 'sashi', 'mouli', 'balaji', 'ajay', 'vaishnavi', 'Neha', 'varsha', 'lahari', 'anjali', 'geethika', 'sirisha', 'sumitra', 'ruhi', 'kiranmayee']"
     ]
    }
   ],
   "source": [
    "names = ['sameer','bhargav','vishnu','madhav','yaswanth',\n",
    "         'hassan','sashi','mouli','balaji','ajay'\n",
    "         ,'vaishnavi','Neha','varsha','lahari','anjali','geethika',\n",
    "         'sirisha','sumitra','ruhi','kiranmayee']\n",
    "print(names,end='')"
   ]
  },
  {
   "cell_type": "markdown",
   "id": "a6ae2008",
   "metadata": {},
   "source": [
    "list: \n",
    "    ->creaton\n",
    "    ->add\n",
    "    ->remove\n",
    "    ->search\n",
    "    ->sort\n",
    "    ->count"
   ]
  },
  {
   "cell_type": "code",
   "execution_count": 5,
   "id": "87f8aa94",
   "metadata": {},
   "outputs": [
    {
     "name": "stdout",
     "output_type": "stream",
     "text": [
      "['The way of king']\n",
      "['The way of king', 'The Final Empire', 'steelHeart', 'Legion']\n"
     ]
    }
   ],
   "source": [
    "books =[]\n",
    "#adding one item at a time\n",
    "books.append(\"The way of king\")\n",
    "print(books)\n",
    "books.append(\"The Final Empire\")\n",
    "books.append(\"steelHeart\")\n",
    "books.append(\"Legion\")\n",
    "print(books)\n"
   ]
  },
  {
   "cell_type": "code",
   "execution_count": 3,
   "id": "76daf6b0",
   "metadata": {},
   "outputs": [
    {
     "name": "stdout",
     "output_type": "stream",
     "text": [
      "['red', 'green', 'blue', 'yellow', 'black']\n",
      "['red', 'green', 'blue', 'yellow', 'black', 'purple', 'pink', 'yellow']\n"
     ]
    }
   ],
   "source": [
    "colors = ['red','green','blue']\n",
    "colors.extend(['yellow','black'])\n",
    "print(colors)\n",
    "colors2 = ['purple','pink','yellow']\n",
    "colors.extend(colors2)\n",
    "print(colors)"
   ]
  },
  {
   "cell_type": "code",
   "execution_count": 9,
   "id": "4c9c463e",
   "metadata": {},
   "outputs": [
    {
     "name": "stdout",
     "output_type": "stream",
     "text": [
      "[0, 1, 2, 3, 4, 5, 6, 7, 8, 9, 10]\n"
     ]
    }
   ],
   "source": [
    "a = []\n",
    "for i in range(0,11):\n",
    "    a.append(i)\n",
    "print(a)"
   ]
  },
  {
   "cell_type": "code",
   "execution_count": null,
   "id": "a29b8f4f",
   "metadata": {},
   "outputs": [
    {
     "name": "stdout",
     "output_type": "stream",
     "text": [
      "Your movie list is: ['fhfhdfdjf', 'sdfbsd', 'sdfdhf', 'sfbsdfb', 'kdsbfdf']\n"
     ]
    }
   ],
   "source": [
    "movies = []\n",
    "for i in range(5):\n",
    "    value = input(\"Enter a movie: \")\n",
    "    movies.append(value)\n",
    "print(\"Your movie list is:\", movies)"
   ]
  },
  {
   "cell_type": "code",
   "execution_count": 6,
   "id": "0eccba12",
   "metadata": {},
   "outputs": [
    {
     "name": "stdout",
     "output_type": "stream",
     "text": [
      "[1, 2, 3, 5, 9, 10]\n"
     ]
    }
   ],
   "source": [
    "x=[1,5,10]\n",
    "x.insert(1,2)\n",
    "x.insert(2,3)\n",
    "x.insert(4,9)\n",
    "print(x)\n"
   ]
  },
  {
   "cell_type": "markdown",
   "id": "bc7ef0c8",
   "metadata": {},
   "source": [
    "# List Methods - 11\n",
    "\n",
    "* Adding Elements\n",
    "    1. append() -> add one element to the end of the list\n",
    "    2. insert() -> add one element to a specific position\n",
    "    3. extend() -> append multiple items in a list\n",
    "\n",
    "* Removing elements\n",
    "    1. remove() -> remove the first occurrence of a value\n",
    "    2. pop() ->remove and return an element fron an index\n",
    "    3. clear() -> remove all elements from the list\n",
    "\n",
    "* Utility Methods\n",
    "    1. count() -> Count occurrence of a element\n",
    "    2. index() -> find index of a element(first only)\n",
    "    3. sort()  -> sort the list\n",
    "    4. reverse() -> reverse the list\n",
    "    5. copy()  -> return a shallow copy of the list"
   ]
  },
  {
   "cell_type": "code",
   "execution_count": 3,
   "id": "ca382a13",
   "metadata": {},
   "outputs": [],
   "source": [
    "books = ['Fast and Furious','Jurassic World','Fantasic Beasts','Warbreaker',\n",
    "         'The Final Empire','Martian','The Shallows','Harry Potter',\n",
    "         'King of Throns','The Meg','The Maze Runner']"
   ]
  },
  {
   "cell_type": "code",
   "execution_count": 9,
   "id": "8a5f68f7",
   "metadata": {},
   "outputs": [
    {
     "name": "stdout",
     "output_type": "stream",
     "text": [
      "size of books list 8\n"
     ]
    }
   ],
   "source": [
    "# len function checks the size of iterable/\n",
    "print(\"size of books list\" , len(books))\n"
   ]
  },
  {
   "cell_type": "code",
   "execution_count": 5,
   "id": "78ce5826",
   "metadata": {},
   "outputs": [
    {
     "name": "stdout",
     "output_type": "stream",
     "text": [
      "['Fast and Furious', 'Jurassic World', 'Fantasic Beasts', 'Warbreaker', 'The Final Empire', 'Martian', 'The Shallows', 'Harry Potter', 'King of Throns', 'The Maze Runner']\n"
     ]
    }
   ],
   "source": [
    "books.remove(\"The Meg\")\n",
    "print(books)"
   ]
  },
  {
   "cell_type": "code",
   "execution_count": 6,
   "id": "cd40d2de",
   "metadata": {},
   "outputs": [
    {
     "name": "stdout",
     "output_type": "stream",
     "text": [
      "['Fast and Furious', 'Jurassic World', 'Fantasic Beasts', 'Warbreaker', 'The Final Empire', 'Martian', 'The Shallows', 'Harry Potter', 'King of Throns']\n"
     ]
    }
   ],
   "source": [
    "if \"The Maze Runner\" in books:\n",
    "    books.remove('The Maze Runner')\n",
    "print(books)"
   ]
  },
  {
   "cell_type": "code",
   "execution_count": 10,
   "id": "c5602191",
   "metadata": {},
   "outputs": [
    {
     "data": {
      "text/plain": [
       "'The Final Empire'"
      ]
     },
     "execution_count": 10,
     "metadata": {},
     "output_type": "execute_result"
    }
   ],
   "source": [
    "books.pop(3)"
   ]
  },
  {
   "cell_type": "code",
   "execution_count": 13,
   "id": "d56c9100",
   "metadata": {},
   "outputs": [
    {
     "name": "stdout",
     "output_type": "stream",
     "text": [
      "['Fast and Furious', 'Jurassic World', 'Fantasic Beasts', 'Martian', 'The Shallows', 'Harry Potter']\n",
      "6\n"
     ]
    }
   ],
   "source": [
    "print(books)\n",
    "print(len(books))"
   ]
  },
  {
   "cell_type": "code",
   "execution_count": 12,
   "id": "34feb366",
   "metadata": {},
   "outputs": [
    {
     "data": {
      "text/plain": [
       "'King of Throns'"
      ]
     },
     "execution_count": 12,
     "metadata": {},
     "output_type": "execute_result"
    }
   ],
   "source": [
    "# pop() Without any index will remove the last element\n",
    "books.pop()"
   ]
  },
  {
   "cell_type": "code",
   "execution_count": 14,
   "id": "73692409",
   "metadata": {},
   "outputs": [
    {
     "name": "stdout",
     "output_type": "stream",
     "text": [
      "[]\n"
     ]
    }
   ],
   "source": [
    "books.clear()\n",
    "print(books)"
   ]
  },
  {
   "cell_type": "code",
   "execution_count": 22,
   "id": "4f82d1df",
   "metadata": {},
   "outputs": [],
   "source": [
    "languages = ['C','Python','Kotlin','Java',\n",
    "             'Dart','Go','C++','C#',\n",
    "             'Html','JavaScript','Scala',\n",
    "             'Rust','Mojo','Assembly']\n",
    "\n",
    "numbers = [12,56,23,67,13,\n",
    "           23,12,56,23,56,\n",
    "           12,34,23,23,12,\n",
    "           34,34,23,53,92]\n",
    "\n",
    "data = [1,'Apple',2,'Avacado',3,'Apricot']"
   ]
  },
  {
   "cell_type": "code",
   "execution_count": 17,
   "id": "e96f7eac",
   "metadata": {},
   "outputs": [
    {
     "data": {
      "text/plain": [
       "4"
      ]
     },
     "execution_count": 17,
     "metadata": {},
     "output_type": "execute_result"
    }
   ],
   "source": [
    "numbers.count(12) # counts how many times 12 occur in the list"
   ]
  },
  {
   "cell_type": "code",
   "execution_count": 18,
   "id": "6e349b31",
   "metadata": {},
   "outputs": [
    {
     "name": "stdout",
     "output_type": "stream",
     "text": [
      "0\n",
      "6\n",
      "3\n"
     ]
    }
   ],
   "source": [
    "print(numbers.count(1))\n",
    "print(numbers.count(23))\n",
    "print(numbers.count(56))"
   ]
  },
  {
   "cell_type": "code",
   "execution_count": 19,
   "id": "430127f1",
   "metadata": {},
   "outputs": [
    {
     "data": {
      "text/plain": [
       "7"
      ]
     },
     "execution_count": 19,
     "metadata": {},
     "output_type": "execute_result"
    }
   ],
   "source": [
    "languages.index('C#') #7th index in my list"
   ]
  },
  {
   "cell_type": "code",
   "execution_count": 23,
   "id": "96fd5535",
   "metadata": {},
   "outputs": [
    {
     "name": "stdout",
     "output_type": "stream",
     "text": [
      "0\n",
      "3\n",
      "1\n"
     ]
    }
   ],
   "source": [
    "print(languages.index('C'))\n",
    "print(languages.index('Java'))\n",
    "print(languages.index('Python'))\n",
    "# print(languages.index('Lisp')) # will give error\n"
   ]
  },
  {
   "cell_type": "code",
   "execution_count": null,
   "id": "13525f87",
   "metadata": {},
   "outputs": [
    {
     "name": "stdout",
     "output_type": "stream",
     "text": [
      "Original ['Assembly', 'C', 'C#', 'C++', 'Dart', 'Go', 'Html', 'Java', 'JavaScript', 'Kotlin', 'Mojo', 'Python', 'Rust', 'Scala']\n",
      "Sorted ['Assembly', 'C', 'C#', 'C++', 'Dart', 'Go', 'Html', 'Java', 'JavaScript', 'Kotlin', 'Mojo', 'Python', 'Rust', 'Scala']\n",
      "Sorted in reverse ['Scala', 'Rust', 'Python', 'Mojo', 'Kotlin', 'JavaScript', 'Java', 'Html', 'Go', 'Dart', 'C++', 'C#', 'C', 'Assembly']\n"
     ]
    }
   ],
   "source": [
    "print(\"Original\",languages)\n",
    "languages.sort() # sort implace\n",
    "print(\"Sorted\",  languages)\n",
    "languages.sort(reverse=True) # Sort in reverse\n",
    "print(\"Sorted in reverse\",languages)"
   ]
  },
  {
   "cell_type": "code",
   "execution_count": 26,
   "id": "51175f92",
   "metadata": {},
   "outputs": [
    {
     "name": "stdout",
     "output_type": "stream",
     "text": [
      "Original [1, 'Apple', 2, 'Avacado', 3, 'Apricot']\n",
      "Reversed ['Apricot', 3, 'Avacado', 2, 'Apple', 1]\n"
     ]
    }
   ],
   "source": [
    "print(\"Original\" , data)\n",
    "data.reverse() # reverse the list\n",
    "print(\"Reversed\", data)"
   ]
  },
  {
   "cell_type": "code",
   "execution_count": 28,
   "id": "a92ff992",
   "metadata": {},
   "outputs": [
    {
     "name": "stdout",
     "output_type": "stream",
     "text": [
      "[12, 12, 12, 12, 13, 23, 23, 23, 23, 23, 23, 34, 34, 34, 53, 56, 56, 56, 67, 92]\n"
     ]
    }
   ],
   "source": [
    "numbers.sort()\n",
    "print(numbers)"
   ]
  },
  {
   "cell_type": "code",
   "execution_count": 27,
   "id": "a9326a56",
   "metadata": {},
   "outputs": [
    {
     "ename": "TypeError",
     "evalue": "'<' not supported between instances of 'int' and 'str'",
     "output_type": "error",
     "traceback": [
      "\u001b[31m---------------------------------------------------------------------------\u001b[39m",
      "\u001b[31mTypeError\u001b[39m                                 Traceback (most recent call last)",
      "\u001b[36mCell\u001b[39m\u001b[36m \u001b[39m\u001b[32mIn[27]\u001b[39m\u001b[32m, line 1\u001b[39m\n\u001b[32m----> \u001b[39m\u001b[32m1\u001b[39m \u001b[43mdata\u001b[49m\u001b[43m.\u001b[49m\u001b[43msort\u001b[49m\u001b[43m(\u001b[49m\u001b[43m)\u001b[49m\n\u001b[32m      2\u001b[39m \u001b[38;5;28mprint\u001b[39m(data)\n",
      "\u001b[31mTypeError\u001b[39m: '<' not supported between instances of 'int' and 'str'"
     ]
    }
   ],
   "source": [
    "data.sort()\n",
    "print(data)"
   ]
  },
  {
   "cell_type": "code",
   "execution_count": null,
   "id": "1a217db0",
   "metadata": {},
   "outputs": [
    {
     "name": "stdout",
     "output_type": "stream",
     "text": [
      "[1, 2, 3, 4]\n",
      "[1, 2, 3, 4]\n",
      "[1, 2, 3, 4]\n",
      "[1, 2, 3, 4]\n",
      "[1, 2, 3, 4]\n",
      "[1, 2, 3, 4, 10, 20]\n"
     ]
    }
   ],
   "source": [
    "x=[1,2,3,4]\n",
    "y=x #deep copy\n",
    "z = x.copy() #shallow copy\n",
    "print(x,y,z,sep = '\\n')\n",
    "x.append(10)\n",
    "y.pop()\n",
    "z.append(10)\n",
    "z.append(20)\n",
    "print(x,y,z , sep = '\\n')\n"
   ]
  },
  {
   "cell_type": "code",
   "execution_count": null,
   "id": "ca82a0b2",
   "metadata": {},
   "outputs": [],
   "source": []
  }
 ],
 "metadata": {
  "kernelspec": {
   "display_name": "Python 3",
   "language": "python",
   "name": "python3"
  },
  "language_info": {
   "codemirror_mode": {
    "name": "ipython",
    "version": 3
   },
   "file_extension": ".py",
   "mimetype": "text/x-python",
   "name": "python",
   "nbconvert_exporter": "python",
   "pygments_lexer": "ipython3",
   "version": "3.12.5"
  }
 },
 "nbformat": 4,
 "nbformat_minor": 5
}
